{
 "cells": [
  {
   "cell_type": "markdown",
   "id": "4da202c9",
   "metadata": {
    "papermill": {
     "duration": 0.013108,
     "end_time": "2023-08-26T03:54:12.969664",
     "exception": false,
     "start_time": "2023-08-26T03:54:12.956556",
     "status": "completed"
    },
    "tags": []
   },
   "source": [
    "# <div style=\"color:yellow;display:fillin;border-radius:5px;background-color:#0000FF;font-family:Nexa;overflow:hidden\"><p style=\"padding:15px;color:yellow;overflow:hidden;font-size:90%;letter-spacing:0.5px;margin:0\"><b> </b>Bellevue City: Salary & Benefits Analysis (2014-Present)</p></div>\n",
    "\n"
   ]
  },
  {
   "cell_type": "markdown",
   "id": "15812fa3",
   "metadata": {
    "papermill": {
     "duration": 0.012703,
     "end_time": "2023-08-26T03:54:12.995414",
     "exception": false,
     "start_time": "2023-08-26T03:54:12.982711",
     "status": "completed"
    },
    "tags": []
   },
   "source": [
    "![image](https://storage.googleapis.com/kaggle-datasets-images/3664655/6361818/ec145567c92158d1c8ab5f94d071d19f/dataset-cover.png?t=2023-08-25-06-27-33)"
   ]
  },
  {
   "cell_type": "markdown",
   "id": "82a94ee8",
   "metadata": {
    "papermill": {
     "duration": 0.01413,
     "end_time": "2023-08-26T03:54:13.022687",
     "exception": false,
     "start_time": "2023-08-26T03:54:13.008557",
     "status": "completed"
    },
    "tags": []
   },
   "source": [
    "# <div style=\"color:yellow;display:inline-block;border-radius:5px;background-color:#0000FF;font-family:Nexa;overflow:hidden\"><p style=\"padding:15px;color:yellow;overflow:hidden;font-size:100%;letter-spacing:0.5px;margin:0\"><b>1️⃣.  </b>Introduction</p></div>\n",
    "\n",
    "This dataset provides a comprehensive overview of salary and benefits costs incurred by the City of Bellevue, with a focus on different job titles. Spanning from 2014 to the present, the dataset encompasses historical data, shedding light on the financial commitments associated with various positions within the city. This valuable resource offers insights into the allocation of resources and financial trends within the City of Bellevue."
   ]
  },
  {
   "cell_type": "markdown",
   "id": "ffdb70e8",
   "metadata": {
    "papermill": {
     "duration": 0.012832,
     "end_time": "2023-08-26T03:54:13.048676",
     "exception": false,
     "start_time": "2023-08-26T03:54:13.035844",
     "status": "completed"
    },
    "tags": []
   },
   "source": [
    "# <div style=\"color:yellow;display:inline-block;border-radius:5px;background-color:#0000FF;font-family:Nexa;overflow:hidden\"><p style=\"padding:15px;color:yellow;overflow:hidden;font-size:100%;letter-spacing:0.5px;margin:0\"><b>2️⃣. </b>Import Libraries</p></div>\n"
   ]
  },
  {
   "cell_type": "code",
   "execution_count": 1,
   "id": "21720fbd",
   "metadata": {
    "execution": {
     "iopub.execute_input": "2023-08-26T03:54:13.077032Z",
     "iopub.status.busy": "2023-08-26T03:54:13.076424Z",
     "iopub.status.idle": "2023-08-26T03:54:15.422396Z",
     "shell.execute_reply": "2023-08-26T03:54:15.421375Z"
    },
    "papermill": {
     "duration": 2.363231,
     "end_time": "2023-08-26T03:54:15.425047",
     "exception": false,
     "start_time": "2023-08-26T03:54:13.061816",
     "status": "completed"
    },
    "tags": []
   },
   "outputs": [
    {
     "name": "stderr",
     "output_type": "stream",
     "text": [
      "/opt/conda/lib/python3.10/site-packages/scipy/__init__.py:146: UserWarning: A NumPy version >=1.16.5 and <1.23.0 is required for this version of SciPy (detected version 1.23.5\n",
      "  warnings.warn(f\"A NumPy version >={np_minversion} and <{np_maxversion}\"\n"
     ]
    }
   ],
   "source": [
    "import seaborn as sns\n",
    "import pandas as pd\n",
    "import numpy as np\n",
    "import matplotlib.pyplot as plt\n",
    "import matplotlib\n",
    "%matplotlib inline\n",
    "\n",
    "from sklearn.model_selection import train_test_split\n",
    "from sklearn.preprocessing import StandardScaler\n",
    "from sklearn.linear_model import LogisticRegression\n",
    "from sklearn.tree import DecisionTreeClassifier\n",
    "from sklearn.ensemble import RandomForestClassifier\n",
    "from sklearn.neighbors import KNeighborsClassifier\n",
    "from xgboost import XGBClassifier\n",
    "from catboost import CatBoostClassifier\n",
    "from sklearn.metrics import accuracy_score\n",
    "\n",
    "import warnings\n",
    "warnings.filterwarnings('ignore')\n",
    "\n",
    "pd.set_option('display.max_columns', None)\n",
    "pd.set_option('display.max_rows', 150)\n",
    "sns.set_style('darkgrid')\n",
    "matplotlib.rcParams['font.size'] = 14\n",
    "matplotlib.rcParams['figure.figsize'] = (10, 6)\n",
    "matplotlib.rcParams['figure.facecolor'] = '#00000000'"
   ]
  },
  {
   "cell_type": "markdown",
   "id": "3b9dc4a5",
   "metadata": {
    "papermill": {
     "duration": 0.013792,
     "end_time": "2023-08-26T03:54:15.452676",
     "exception": false,
     "start_time": "2023-08-26T03:54:15.438884",
     "status": "completed"
    },
    "tags": []
   },
   "source": [
    "# <div style=\"color:yellow;display:inline-block;border-radius:5px;background-color:#0000FF;font-family:Nexa;overflow:hidden\"><p style=\"padding:15px;color:yellow;overflow:hidden;font-size:100%;letter-spacing:0.5px;margin:0\"><b>3️⃣. </b>Data Loading and Exploration</p></div>"
   ]
  },
  {
   "cell_type": "markdown",
   "id": "7da9d712",
   "metadata": {
    "papermill": {
     "duration": 0.013148,
     "end_time": "2023-08-26T03:54:15.479295",
     "exception": false,
     "start_time": "2023-08-26T03:54:15.466147",
     "status": "completed"
    },
    "tags": []
   },
   "source": [
    "> <span style='font-size:15px; font-family:Verdana;color: #254E58;'><b>\n",
    "Load the dataset using a suitable library like pandas.</b></span>"
   ]
  },
  {
   "cell_type": "code",
   "execution_count": 2,
   "id": "385a781e",
   "metadata": {
    "execution": {
     "iopub.execute_input": "2023-08-26T03:54:15.508613Z",
     "iopub.status.busy": "2023-08-26T03:54:15.507566Z",
     "iopub.status.idle": "2023-08-26T03:54:15.591919Z",
     "shell.execute_reply": "2023-08-26T03:54:15.590718Z"
    },
    "papermill": {
     "duration": 0.102005,
     "end_time": "2023-08-26T03:54:15.594750",
     "exception": false,
     "start_time": "2023-08-26T03:54:15.492745",
     "status": "completed"
    },
    "tags": []
   },
   "outputs": [],
   "source": [
    "data =pd.read_csv('/kaggle/input/salaries-and-benefits-by-job-title/Salaries_and_Benefits_by_Job_Title.csv')"
   ]
  },
  {
   "cell_type": "markdown",
   "id": "183fcfae",
   "metadata": {
    "papermill": {
     "duration": 0.012754,
     "end_time": "2023-08-26T03:54:15.620628",
     "exception": false,
     "start_time": "2023-08-26T03:54:15.607874",
     "status": "completed"
    },
    "tags": []
   },
   "source": [
    "> <span style='font-size:15px; font-family:Verdana;color: #254E58;'><b>\n",
    "Explore the first few rows of the dataset to understand its structure.</b></span>"
   ]
  },
  {
   "cell_type": "code",
   "execution_count": 3,
   "id": "fd2aedf7",
   "metadata": {
    "execution": {
     "iopub.execute_input": "2023-08-26T03:54:15.648556Z",
     "iopub.status.busy": "2023-08-26T03:54:15.647897Z",
     "iopub.status.idle": "2023-08-26T03:54:15.720661Z",
     "shell.execute_reply": "2023-08-26T03:54:15.719478Z"
    },
    "papermill": {
     "duration": 0.089332,
     "end_time": "2023-08-26T03:54:15.723011",
     "exception": false,
     "start_time": "2023-08-26T03:54:15.633679",
     "status": "completed"
    },
    "tags": []
   },
   "outputs": [
    {
     "data": {
      "text/html": [
       "<style type=\"text/css\">\n",
       "#T_d9cba_row0_col0, #T_d9cba_row0_col1, #T_d9cba_row0_col2, #T_d9cba_row0_col3, #T_d9cba_row0_col4, #T_d9cba_row0_col5, #T_d9cba_row0_col6, #T_d9cba_row0_col7, #T_d9cba_row0_col8, #T_d9cba_row1_col0, #T_d9cba_row1_col1, #T_d9cba_row1_col2, #T_d9cba_row1_col3, #T_d9cba_row1_col4, #T_d9cba_row1_col5, #T_d9cba_row1_col6, #T_d9cba_row1_col7, #T_d9cba_row1_col8, #T_d9cba_row2_col0, #T_d9cba_row2_col1, #T_d9cba_row2_col2, #T_d9cba_row2_col3, #T_d9cba_row2_col4, #T_d9cba_row2_col5, #T_d9cba_row2_col6, #T_d9cba_row2_col7, #T_d9cba_row2_col8, #T_d9cba_row3_col0, #T_d9cba_row3_col1, #T_d9cba_row3_col2, #T_d9cba_row3_col3, #T_d9cba_row3_col4, #T_d9cba_row3_col5, #T_d9cba_row3_col6, #T_d9cba_row3_col7, #T_d9cba_row3_col8, #T_d9cba_row4_col0, #T_d9cba_row4_col1, #T_d9cba_row4_col2, #T_d9cba_row4_col3, #T_d9cba_row4_col4, #T_d9cba_row4_col5, #T_d9cba_row4_col6, #T_d9cba_row4_col7, #T_d9cba_row4_col8 {\n",
       "  background-color: #8338EC;\n",
       "  color: #A8DADC;\n",
       "  border: 1.5px solid Black;\n",
       "}\n",
       "</style>\n",
       "<table id=\"T_d9cba\">\n",
       "  <thead>\n",
       "    <tr>\n",
       "      <th class=\"blank level0\" >&nbsp;</th>\n",
       "      <th id=\"T_d9cba_level0_col0\" class=\"col_heading level0 col0\" >Year</th>\n",
       "      <th id=\"T_d9cba_level0_col1\" class=\"col_heading level0 col1\" >Department</th>\n",
       "      <th id=\"T_d9cba_level0_col2\" class=\"col_heading level0 col2\" >Job Code</th>\n",
       "      <th id=\"T_d9cba_level0_col3\" class=\"col_heading level0 col3\" >Wages</th>\n",
       "      <th id=\"T_d9cba_level0_col4\" class=\"col_heading level0 col4\" >Overtime</th>\n",
       "      <th id=\"T_d9cba_level0_col5\" class=\"col_heading level0 col5\" >Fixed Benefits</th>\n",
       "      <th id=\"T_d9cba_level0_col6\" class=\"col_heading level0 col6\" >Variable Benefits</th>\n",
       "      <th id=\"T_d9cba_level0_col7\" class=\"col_heading level0 col7\" >Total</th>\n",
       "      <th id=\"T_d9cba_level0_col8\" class=\"col_heading level0 col8\" >ObjectId</th>\n",
       "    </tr>\n",
       "  </thead>\n",
       "  <tbody>\n",
       "    <tr>\n",
       "      <th id=\"T_d9cba_level0_row0\" class=\"row_heading level0 row0\" >0</th>\n",
       "      <td id=\"T_d9cba_row0_col0\" class=\"data row0 col0\" >16</td>\n",
       "      <td id=\"T_d9cba_row0_col1\" class=\"data row0 col1\" >Parks & Community Services</td>\n",
       "      <td id=\"T_d9cba_row0_col2\" class=\"data row0 col2\" >AMG605 - Office Asst - PBM</td>\n",
       "      <td id=\"T_d9cba_row0_col3\" class=\"data row0 col3\" >3941.080000</td>\n",
       "      <td id=\"T_d9cba_row0_col4\" class=\"data row0 col4\" >nan</td>\n",
       "      <td id=\"T_d9cba_row0_col5\" class=\"data row0 col5\" >nan</td>\n",
       "      <td id=\"T_d9cba_row0_col6\" class=\"data row0 col6\" >449.570000</td>\n",
       "      <td id=\"T_d9cba_row0_col7\" class=\"data row0 col7\" >4390.650000</td>\n",
       "      <td id=\"T_d9cba_row0_col8\" class=\"data row0 col8\" >1</td>\n",
       "    </tr>\n",
       "    <tr>\n",
       "      <th id=\"T_d9cba_level0_row1\" class=\"row_heading level0 row1\" >1</th>\n",
       "      <td id=\"T_d9cba_row1_col0\" class=\"data row1 col0\" >17</td>\n",
       "      <td id=\"T_d9cba_row1_col1\" class=\"data row1 col1\" >Parks & Community Services</td>\n",
       "      <td id=\"T_d9cba_row1_col2\" class=\"data row1 col2\" >AMG605 - Office Asst - PBM</td>\n",
       "      <td id=\"T_d9cba_row1_col3\" class=\"data row1 col3\" >5891.990000</td>\n",
       "      <td id=\"T_d9cba_row1_col4\" class=\"data row1 col4\" >nan</td>\n",
       "      <td id=\"T_d9cba_row1_col5\" class=\"data row1 col5\" >nan</td>\n",
       "      <td id=\"T_d9cba_row1_col6\" class=\"data row1 col6\" >537.200000</td>\n",
       "      <td id=\"T_d9cba_row1_col7\" class=\"data row1 col7\" >6429.190000</td>\n",
       "      <td id=\"T_d9cba_row1_col8\" class=\"data row1 col8\" >2</td>\n",
       "    </tr>\n",
       "    <tr>\n",
       "      <th id=\"T_d9cba_level0_row2\" class=\"row_heading level0 row2\" >2</th>\n",
       "      <td id=\"T_d9cba_row2_col0\" class=\"data row2 col0\" >18</td>\n",
       "      <td id=\"T_d9cba_row2_col1\" class=\"data row2 col1\" >Parks & Community Services</td>\n",
       "      <td id=\"T_d9cba_row2_col2\" class=\"data row2 col2\" >AMG605 - Office Asst - PBM</td>\n",
       "      <td id=\"T_d9cba_row2_col3\" class=\"data row2 col3\" >5103.080000</td>\n",
       "      <td id=\"T_d9cba_row2_col4\" class=\"data row2 col4\" >nan</td>\n",
       "      <td id=\"T_d9cba_row2_col5\" class=\"data row2 col5\" >nan</td>\n",
       "      <td id=\"T_d9cba_row2_col6\" class=\"data row2 col6\" >449.300000</td>\n",
       "      <td id=\"T_d9cba_row2_col7\" class=\"data row2 col7\" >5552.380000</td>\n",
       "      <td id=\"T_d9cba_row2_col8\" class=\"data row2 col8\" >3</td>\n",
       "    </tr>\n",
       "    <tr>\n",
       "      <th id=\"T_d9cba_level0_row3\" class=\"row_heading level0 row3\" >3</th>\n",
       "      <td id=\"T_d9cba_row3_col0\" class=\"data row3 col0\" >14</td>\n",
       "      <td id=\"T_d9cba_row3_col1\" class=\"data row3 col1\" >Parks & Community Services</td>\n",
       "      <td id=\"T_d9cba_row3_col2\" class=\"data row3 col2\" >AMG605 - Office Asst - PBM</td>\n",
       "      <td id=\"T_d9cba_row3_col3\" class=\"data row3 col3\" >10426.250000</td>\n",
       "      <td id=\"T_d9cba_row3_col4\" class=\"data row3 col4\" >nan</td>\n",
       "      <td id=\"T_d9cba_row3_col5\" class=\"data row3 col5\" >nan</td>\n",
       "      <td id=\"T_d9cba_row3_col6\" class=\"data row3 col6\" >1205.970000</td>\n",
       "      <td id=\"T_d9cba_row3_col7\" class=\"data row3 col7\" >11632.220000</td>\n",
       "      <td id=\"T_d9cba_row3_col8\" class=\"data row3 col8\" >4</td>\n",
       "    </tr>\n",
       "    <tr>\n",
       "      <th id=\"T_d9cba_level0_row4\" class=\"row_heading level0 row4\" >4</th>\n",
       "      <td id=\"T_d9cba_row4_col0\" class=\"data row4 col0\" >15</td>\n",
       "      <td id=\"T_d9cba_row4_col1\" class=\"data row4 col1\" >Parks & Community Services</td>\n",
       "      <td id=\"T_d9cba_row4_col2\" class=\"data row4 col2\" >AMG605 - Office Asst - PBM</td>\n",
       "      <td id=\"T_d9cba_row4_col3\" class=\"data row4 col3\" >24947.100000</td>\n",
       "      <td id=\"T_d9cba_row4_col4\" class=\"data row4 col4\" >nan</td>\n",
       "      <td id=\"T_d9cba_row4_col5\" class=\"data row4 col5\" >nan</td>\n",
       "      <td id=\"T_d9cba_row4_col6\" class=\"data row4 col6\" >2802.440000</td>\n",
       "      <td id=\"T_d9cba_row4_col7\" class=\"data row4 col7\" >27749.540000</td>\n",
       "      <td id=\"T_d9cba_row4_col8\" class=\"data row4 col8\" >5</td>\n",
       "    </tr>\n",
       "  </tbody>\n",
       "</table>\n"
      ],
      "text/plain": [
       "<pandas.io.formats.style.Styler at 0x7a09ffb946d0>"
      ]
     },
     "execution_count": 3,
     "metadata": {},
     "output_type": "execute_result"
    }
   ],
   "source": [
    "data.head().style.set_properties(**{\"background-color\": \"#8338EC\",\"color\":\"#A8DADC\",\"border\": \"1.5px solid Black\"})"
   ]
  },
  {
   "cell_type": "markdown",
   "id": "aef864be",
   "metadata": {
    "papermill": {
     "duration": 0.01329,
     "end_time": "2023-08-26T03:54:15.749863",
     "exception": false,
     "start_time": "2023-08-26T03:54:15.736573",
     "status": "completed"
    },
    "tags": []
   },
   "source": [
    "> <span style='font-size:15px; font-family:Verdana;color: #254E58;'><b>\n",
    "Check for null values. If any are found, remove them.</b></span>"
   ]
  },
  {
   "cell_type": "code",
   "execution_count": 4,
   "id": "4266f670",
   "metadata": {
    "execution": {
     "iopub.execute_input": "2023-08-26T03:54:15.778788Z",
     "iopub.status.busy": "2023-08-26T03:54:15.778057Z",
     "iopub.status.idle": "2023-08-26T03:54:15.784195Z",
     "shell.execute_reply": "2023-08-26T03:54:15.782931Z"
    },
    "papermill": {
     "duration": 0.023098,
     "end_time": "2023-08-26T03:54:15.786368",
     "exception": false,
     "start_time": "2023-08-26T03:54:15.763270",
     "status": "completed"
    },
    "tags": []
   },
   "outputs": [
    {
     "name": "stdout",
     "output_type": "stream",
     "text": [
      "Data \n",
      "Number of rows : 17061\n",
      "Number of columns: 9\n"
     ]
    }
   ],
   "source": [
    "data_num_rows, data_num_cols = data.shape\n",
    "print(f'Data \\nNumber of rows : {data_num_rows}\\nNumber of columns: {data_num_cols}')"
   ]
  },
  {
   "cell_type": "markdown",
   "id": "6f5d9f53",
   "metadata": {
    "papermill": {
     "duration": 0.012931,
     "end_time": "2023-08-26T03:54:15.811997",
     "exception": false,
     "start_time": "2023-08-26T03:54:15.799066",
     "status": "completed"
    },
    "tags": []
   },
   "source": [
    "> <span style='font-size:15px; font-family:Verdana;color: #254E58;'><b>Basic info</b></span>"
   ]
  },
  {
   "cell_type": "code",
   "execution_count": 5,
   "id": "b131c65f",
   "metadata": {
    "execution": {
     "iopub.execute_input": "2023-08-26T03:54:15.841562Z",
     "iopub.status.busy": "2023-08-26T03:54:15.840872Z",
     "iopub.status.idle": "2023-08-26T03:54:15.882073Z",
     "shell.execute_reply": "2023-08-26T03:54:15.880937Z"
    },
    "papermill": {
     "duration": 0.058986,
     "end_time": "2023-08-26T03:54:15.884500",
     "exception": false,
     "start_time": "2023-08-26T03:54:15.825514",
     "status": "completed"
    },
    "tags": []
   },
   "outputs": [
    {
     "name": "stdout",
     "output_type": "stream",
     "text": [
      "<class 'pandas.core.frame.DataFrame'>\n",
      "RangeIndex: 17061 entries, 0 to 17060\n",
      "Data columns (total 9 columns):\n",
      " #   Column             Non-Null Count  Dtype  \n",
      "---  ------             --------------  -----  \n",
      " 0   Year               17061 non-null  object \n",
      " 1   Department         17059 non-null  object \n",
      " 2   Job Code           17059 non-null  object \n",
      " 3   Wages              17051 non-null  float64\n",
      " 4   Overtime           5822 non-null   float64\n",
      " 5   Fixed Benefits     13220 non-null  float64\n",
      " 6   Variable Benefits  17058 non-null  float64\n",
      " 7   Total              17061 non-null  float64\n",
      " 8   ObjectId           17061 non-null  int64  \n",
      "dtypes: float64(5), int64(1), object(3)\n",
      "memory usage: 1.2+ MB\n"
     ]
    }
   ],
   "source": [
    "data.info()"
   ]
  },
  {
   "cell_type": "markdown",
   "id": "d278ef9b",
   "metadata": {
    "papermill": {
     "duration": 0.012971,
     "end_time": "2023-08-26T03:54:15.911062",
     "exception": false,
     "start_time": "2023-08-26T03:54:15.898091",
     "status": "completed"
    },
    "tags": []
   },
   "source": [
    "> <span style='font-size:15px; font-family:Verdana;color: #254E58;'><b>Count null/nan values</b></span>"
   ]
  },
  {
   "cell_type": "code",
   "execution_count": 6,
   "id": "a6e2787d",
   "metadata": {
    "execution": {
     "iopub.execute_input": "2023-08-26T03:54:15.939708Z",
     "iopub.status.busy": "2023-08-26T03:54:15.939010Z",
     "iopub.status.idle": "2023-08-26T03:54:15.963132Z",
     "shell.execute_reply": "2023-08-26T03:54:15.962081Z"
    },
    "papermill": {
     "duration": 0.041276,
     "end_time": "2023-08-26T03:54:15.965554",
     "exception": false,
     "start_time": "2023-08-26T03:54:15.924278",
     "status": "completed"
    },
    "tags": []
   },
   "outputs": [
    {
     "data": {
      "text/plain": [
       "Year                     0\n",
       "Department               2\n",
       "Job Code                 2\n",
       "Wages                   10\n",
       "Overtime             11239\n",
       "Fixed Benefits        3841\n",
       "Variable Benefits        3\n",
       "Total                    0\n",
       "ObjectId                 0\n",
       "dtype: int64"
      ]
     },
     "execution_count": 6,
     "metadata": {},
     "output_type": "execute_result"
    }
   ],
   "source": [
    "data.isna().sum()"
   ]
  },
  {
   "cell_type": "markdown",
   "id": "5f3879b2",
   "metadata": {
    "papermill": {
     "duration": 0.013141,
     "end_time": "2023-08-26T03:54:15.992122",
     "exception": false,
     "start_time": "2023-08-26T03:54:15.978981",
     "status": "completed"
    },
    "tags": []
   },
   "source": [
    "# <div style=\"color:yellow;display:inline-block;border-radius:5px;background-color:#0000FF;font-family:Nexa;overflow:hidden\"><p style=\"padding:15px;color:yellow;overflow:hidden;font-size:100%;letter-spacing:0.5px;margin:0\"><b>4️⃣. </b>Data Cleaning</p></div>\n",
    "\n",
    "\n"
   ]
  },
  {
   "cell_type": "markdown",
   "id": "fc63a9c0",
   "metadata": {
    "papermill": {
     "duration": 0.013211,
     "end_time": "2023-08-26T03:54:16.019140",
     "exception": false,
     "start_time": "2023-08-26T03:54:16.005929",
     "status": "completed"
    },
    "tags": []
   },
   "source": [
    "> <span style='font-size:15px; font-family:Verdana;color: #254E58;'><b>Handle missing values appropriately (e.g., replace with zeros or mean values).</b></span>"
   ]
  },
  {
   "cell_type": "code",
   "execution_count": 7,
   "id": "3e72b367",
   "metadata": {
    "execution": {
     "iopub.execute_input": "2023-08-26T03:54:16.048690Z",
     "iopub.status.busy": "2023-08-26T03:54:16.048286Z",
     "iopub.status.idle": "2023-08-26T03:54:16.074298Z",
     "shell.execute_reply": "2023-08-26T03:54:16.073373Z"
    },
    "papermill": {
     "duration": 0.04347,
     "end_time": "2023-08-26T03:54:16.076413",
     "exception": false,
     "start_time": "2023-08-26T03:54:16.032943",
     "status": "completed"
    },
    "tags": []
   },
   "outputs": [
    {
     "data": {
      "text/plain": [
       "Year                  0.000000\n",
       "Department            0.011723\n",
       "Job Code              0.011723\n",
       "Wages                 0.058613\n",
       "Overtime             65.875388\n",
       "Fixed Benefits       22.513335\n",
       "Variable Benefits     0.017584\n",
       "Total                 0.000000\n",
       "ObjectId              0.000000\n",
       "dtype: float64"
      ]
     },
     "execution_count": 7,
     "metadata": {},
     "output_type": "execute_result"
    }
   ],
   "source": [
    "# Checking the null values in the data set\n",
    "data.isna().sum()/len(data)*100"
   ]
  },
  {
   "cell_type": "code",
   "execution_count": 8,
   "id": "fb75454d",
   "metadata": {
    "execution": {
     "iopub.execute_input": "2023-08-26T03:54:16.106027Z",
     "iopub.status.busy": "2023-08-26T03:54:16.105347Z",
     "iopub.status.idle": "2023-08-26T03:54:16.148192Z",
     "shell.execute_reply": "2023-08-26T03:54:16.147163Z"
    },
    "papermill": {
     "duration": 0.061216,
     "end_time": "2023-08-26T03:54:16.151364",
     "exception": false,
     "start_time": "2023-08-26T03:54:16.090148",
     "status": "completed"
    },
    "tags": []
   },
   "outputs": [
    {
     "name": "stdout",
     "output_type": "stream",
     "text": [
      "Percentage of missing values after replacing NaN with zeros:\n",
      "Year                 0.0\n",
      "Department           0.0\n",
      "Job Code             0.0\n",
      "Wages                0.0\n",
      "Overtime             0.0\n",
      "Fixed Benefits       0.0\n",
      "Variable Benefits    0.0\n",
      "Total                0.0\n",
      "ObjectId             0.0\n",
      "dtype: float64\n"
     ]
    }
   ],
   "source": [
    "# Replacing NaN with zeros\n",
    "data_filled = data.fillna(0)\n",
    "\n",
    "# Checking the null values in the data set after filling NaN with zeros\n",
    "missing_percent = data_filled.isna().sum() / len(data_filled) * 100\n",
    "\n",
    "print(\"Percentage of missing values after replacing NaN with zeros:\")\n",
    "print(missing_percent)"
   ]
  },
  {
   "cell_type": "code",
   "execution_count": 9,
   "id": "f7263b59",
   "metadata": {
    "execution": {
     "iopub.execute_input": "2023-08-26T03:54:16.182241Z",
     "iopub.status.busy": "2023-08-26T03:54:16.181538Z",
     "iopub.status.idle": "2023-08-26T03:54:16.205596Z",
     "shell.execute_reply": "2023-08-26T03:54:16.204283Z"
    },
    "papermill": {
     "duration": 0.042071,
     "end_time": "2023-08-26T03:54:16.207810",
     "exception": false,
     "start_time": "2023-08-26T03:54:16.165739",
     "status": "completed"
    },
    "tags": []
   },
   "outputs": [
    {
     "name": "stdout",
     "output_type": "stream",
     "text": [
      "The data set contains 1509700 of values\n"
     ]
    }
   ],
   "source": [
    "#Checking the Percentage of the null values in the dataset\n",
    "null_values=data.isna().sum()\n",
    "total_missing_values=null_values.sum()\n",
    "percentage_missing_values=(total_missing_values)*100\n",
    "print(f'The data set contains {percentage_missing_values} of values')"
   ]
  },
  {
   "cell_type": "markdown",
   "id": "2e31f0f4",
   "metadata": {
    "papermill": {
     "duration": 0.013865,
     "end_time": "2023-08-26T03:54:16.235951",
     "exception": false,
     "start_time": "2023-08-26T03:54:16.222086",
     "status": "completed"
    },
    "tags": []
   },
   "source": [
    "> <span style='font-size:15px; font-family:Verdana;color: #254E58;'><b>\n",
    "Inspect for duplicate values and remove them if present.</b></span>"
   ]
  },
  {
   "cell_type": "code",
   "execution_count": 10,
   "id": "ddf27ccd",
   "metadata": {
    "execution": {
     "iopub.execute_input": "2023-08-26T03:54:16.266489Z",
     "iopub.status.busy": "2023-08-26T03:54:16.265800Z",
     "iopub.status.idle": "2023-08-26T03:54:16.289650Z",
     "shell.execute_reply": "2023-08-26T03:54:16.288493Z"
    },
    "papermill": {
     "duration": 0.041704,
     "end_time": "2023-08-26T03:54:16.291991",
     "exception": false,
     "start_time": "2023-08-26T03:54:16.250287",
     "status": "completed"
    },
    "tags": []
   },
   "outputs": [
    {
     "name": "stdout",
     "output_type": "stream",
     "text": [
      "There are 0 values in the data set; we will remove them.\n"
     ]
    }
   ],
   "source": [
    "# Checking the duplicate values in the dataset\n",
    "duplicate=data.duplicated().sum()\n",
    "print(f'There are {duplicate} values in the data set; we will remove them.')"
   ]
  },
  {
   "cell_type": "code",
   "execution_count": 11,
   "id": "f8c2ee45",
   "metadata": {
    "execution": {
     "iopub.execute_input": "2023-08-26T03:54:16.322081Z",
     "iopub.status.busy": "2023-08-26T03:54:16.321692Z",
     "iopub.status.idle": "2023-08-26T03:54:16.328546Z",
     "shell.execute_reply": "2023-08-26T03:54:16.327379Z"
    },
    "papermill": {
     "duration": 0.024609,
     "end_time": "2023-08-26T03:54:16.330831",
     "exception": false,
     "start_time": "2023-08-26T03:54:16.306222",
     "status": "completed"
    },
    "tags": []
   },
   "outputs": [
    {
     "data": {
      "text/plain": [
       "Index(['Year', 'Department', 'Job Code', 'Wages', 'Overtime', 'Fixed Benefits',\n",
       "       'Variable Benefits', 'Total', 'ObjectId'],\n",
       "      dtype='object')"
      ]
     },
     "execution_count": 11,
     "metadata": {},
     "output_type": "execute_result"
    }
   ],
   "source": [
    "data.columns"
   ]
  },
  {
   "cell_type": "markdown",
   "id": "12e6728d",
   "metadata": {
    "papermill": {
     "duration": 0.014191,
     "end_time": "2023-08-26T03:54:16.359595",
     "exception": false,
     "start_time": "2023-08-26T03:54:16.345404",
     "status": "completed"
    },
    "tags": []
   },
   "source": [
    "> <span style='font-size:15px; font-family:Verdana;color: #254E58;'><b>Convert data types if necessary (e.g., convert 'Year' to datetime).</b></span>"
   ]
  },
  {
   "cell_type": "code",
   "execution_count": 12,
   "id": "a57c5146",
   "metadata": {
    "execution": {
     "iopub.execute_input": "2023-08-26T03:54:16.390673Z",
     "iopub.status.busy": "2023-08-26T03:54:16.390272Z",
     "iopub.status.idle": "2023-08-26T03:54:16.429561Z",
     "shell.execute_reply": "2023-08-26T03:54:16.428499Z"
    },
    "papermill": {
     "duration": 0.058077,
     "end_time": "2023-08-26T03:54:16.432327",
     "exception": false,
     "start_time": "2023-08-26T03:54:16.374250",
     "status": "completed"
    },
    "tags": []
   },
   "outputs": [],
   "source": [
    "data.fillna(0, inplace=True)  # Replace missing values with zeros\n",
    "data = data[data['Year'] != 'GRAND TOTAL']  # Remove rows with 'GRAND TOTAL'\n",
    "data['Year'] = pd.to_datetime(data['Year'], format='%y')  # Convert 'Year' to datetime\n"
   ]
  },
  {
   "cell_type": "markdown",
   "id": "38facd8e",
   "metadata": {
    "papermill": {
     "duration": 0.015164,
     "end_time": "2023-08-26T03:54:16.462422",
     "exception": false,
     "start_time": "2023-08-26T03:54:16.447258",
     "status": "completed"
    },
    "tags": []
   },
   "source": [
    "# <div style=\"color:yellow;display:inline-block;border-radius:5px;background-color:#0000FF;font-family:Nexa;overflow:hidden\"><p style=\"padding:15px;color:yellow;overflow:hidden;font-size:100%;letter-spacing:0.5px;margin:0\"><b>5️⃣. </b>Data Preparation</p></div>"
   ]
  },
  {
   "cell_type": "markdown",
   "id": "272af2a0",
   "metadata": {
    "papermill": {
     "duration": 0.014447,
     "end_time": "2023-08-26T03:54:16.491472",
     "exception": false,
     "start_time": "2023-08-26T03:54:16.477025",
     "status": "completed"
    },
    "tags": []
   },
   "source": [
    "> <span style='font-size:15px; font-family:Verdana;color: #254E58;'><b>Generate statistics about the data using the describe function.</b></span>"
   ]
  },
  {
   "cell_type": "code",
   "execution_count": 13,
   "id": "5c157371",
   "metadata": {
    "execution": {
     "iopub.execute_input": "2023-08-26T03:54:16.522516Z",
     "iopub.status.busy": "2023-08-26T03:54:16.521847Z",
     "iopub.status.idle": "2023-08-26T03:54:16.581251Z",
     "shell.execute_reply": "2023-08-26T03:54:16.580053Z"
    },
    "papermill": {
     "duration": 0.07785,
     "end_time": "2023-08-26T03:54:16.583635",
     "exception": false,
     "start_time": "2023-08-26T03:54:16.505785",
     "status": "completed"
    },
    "tags": []
   },
   "outputs": [
    {
     "data": {
      "text/html": [
       "<style type=\"text/css\">\n",
       "#T_b3730_row0_col0, #T_b3730_row0_col4, #T_b3730_row2_col1, #T_b3730_row4_col0, #T_b3730_row4_col4 {\n",
       "  background-color: #6baed6;\n",
       "  color: #f1f1f1;\n",
       "}\n",
       "#T_b3730_row0_col1, #T_b3730_row1_col0, #T_b3730_row1_col3, #T_b3730_row2_col0, #T_b3730_row2_col3, #T_b3730_row2_col4, #T_b3730_row5_col0, #T_b3730_row5_col3 {\n",
       "  background-color: #c6dbef;\n",
       "  color: #000000;\n",
       "}\n",
       "#T_b3730_row0_col2, #T_b3730_row6_col2 {\n",
       "  background-color: #bcbddc;\n",
       "  color: #000000;\n",
       "}\n",
       "#T_b3730_row0_col3, #T_b3730_row4_col2, #T_b3730_row6_col0, #T_b3730_row6_col3 {\n",
       "  background-color: #fdae6b;\n",
       "  color: #000000;\n",
       "}\n",
       "#T_b3730_row0_col5, #T_b3730_row7_col0, #T_b3730_row7_col1, #T_b3730_row7_col2, #T_b3730_row7_col3, #T_b3730_row7_col4, #T_b3730_row7_col5 {\n",
       "  background-color: #d9d9d9;\n",
       "  color: #000000;\n",
       "}\n",
       "#T_b3730_row1_col1, #T_b3730_row3_col0, #T_b3730_row3_col1, #T_b3730_row3_col2, #T_b3730_row3_col3, #T_b3730_row3_col4, #T_b3730_row3_col5, #T_b3730_row4_col1, #T_b3730_row4_col3, #T_b3730_row5_col1, #T_b3730_row6_col1 {\n",
       "  background-color: #3182bd;\n",
       "  color: #f1f1f1;\n",
       "}\n",
       "#T_b3730_row1_col2, #T_b3730_row1_col5, #T_b3730_row5_col5 {\n",
       "  background-color: #a1d99b;\n",
       "  color: #000000;\n",
       "}\n",
       "#T_b3730_row1_col4, #T_b3730_row5_col4 {\n",
       "  background-color: #e6550d;\n",
       "  color: #f1f1f1;\n",
       "}\n",
       "#T_b3730_row2_col2 {\n",
       "  background-color: #74c476;\n",
       "  color: #000000;\n",
       "}\n",
       "#T_b3730_row2_col5, #T_b3730_row4_col5 {\n",
       "  background-color: #fd8d3c;\n",
       "  color: #f1f1f1;\n",
       "}\n",
       "#T_b3730_row5_col2 {\n",
       "  background-color: #c7e9c0;\n",
       "  color: #000000;\n",
       "}\n",
       "#T_b3730_row6_col4 {\n",
       "  background-color: #fdd0a2;\n",
       "  color: #000000;\n",
       "}\n",
       "#T_b3730_row6_col5 {\n",
       "  background-color: #dadaeb;\n",
       "  color: #000000;\n",
       "}\n",
       "</style>\n",
       "<table id=\"T_b3730\">\n",
       "  <thead>\n",
       "    <tr>\n",
       "      <th class=\"blank level0\" >&nbsp;</th>\n",
       "      <th id=\"T_b3730_level0_col0\" class=\"col_heading level0 col0\" >Wages</th>\n",
       "      <th id=\"T_b3730_level0_col1\" class=\"col_heading level0 col1\" >Overtime</th>\n",
       "      <th id=\"T_b3730_level0_col2\" class=\"col_heading level0 col2\" >Fixed Benefits</th>\n",
       "      <th id=\"T_b3730_level0_col3\" class=\"col_heading level0 col3\" >Variable Benefits</th>\n",
       "      <th id=\"T_b3730_level0_col4\" class=\"col_heading level0 col4\" >Total</th>\n",
       "      <th id=\"T_b3730_level0_col5\" class=\"col_heading level0 col5\" >ObjectId</th>\n",
       "    </tr>\n",
       "  </thead>\n",
       "  <tbody>\n",
       "    <tr>\n",
       "      <th id=\"T_b3730_level0_row0\" class=\"row_heading level0 row0\" >count</th>\n",
       "      <td id=\"T_b3730_row0_col0\" class=\"data row0 col0\" >17060.000000</td>\n",
       "      <td id=\"T_b3730_row0_col1\" class=\"data row0 col1\" >17060.000000</td>\n",
       "      <td id=\"T_b3730_row0_col2\" class=\"data row0 col2\" >17060.000000</td>\n",
       "      <td id=\"T_b3730_row0_col3\" class=\"data row0 col3\" >17060.000000</td>\n",
       "      <td id=\"T_b3730_row0_col4\" class=\"data row0 col4\" >17060.000000</td>\n",
       "      <td id=\"T_b3730_row0_col5\" class=\"data row0 col5\" >17060.000000</td>\n",
       "    </tr>\n",
       "    <tr>\n",
       "      <th id=\"T_b3730_level0_row1\" class=\"row_heading level0 row1\" >mean</th>\n",
       "      <td id=\"T_b3730_row1_col0\" class=\"data row1 col0\" >53302.911835</td>\n",
       "      <td id=\"T_b3730_row1_col1\" class=\"data row1 col1\" >2774.128028</td>\n",
       "      <td id=\"T_b3730_row1_col2\" class=\"data row1 col2\" >8952.195555</td>\n",
       "      <td id=\"T_b3730_row1_col3\" class=\"data row1 col3\" >9921.904735</td>\n",
       "      <td id=\"T_b3730_row1_col4\" class=\"data row1 col4\" >74951.140152</td>\n",
       "      <td id=\"T_b3730_row1_col5\" class=\"data row1 col5\" >8530.500000</td>\n",
       "    </tr>\n",
       "    <tr>\n",
       "      <th id=\"T_b3730_level0_row2\" class=\"row_heading level0 row2\" >std</th>\n",
       "      <td id=\"T_b3730_row2_col0\" class=\"data row2 col0\" >45716.315837</td>\n",
       "      <td id=\"T_b3730_row2_col1\" class=\"data row2 col1\" >7344.560637</td>\n",
       "      <td id=\"T_b3730_row2_col2\" class=\"data row2 col2\" >7593.812323</td>\n",
       "      <td id=\"T_b3730_row2_col3\" class=\"data row2 col3\" >8482.791280</td>\n",
       "      <td id=\"T_b3730_row2_col4\" class=\"data row2 col4\" >63715.445536</td>\n",
       "      <td id=\"T_b3730_row2_col5\" class=\"data row2 col5\" >4924.942132</td>\n",
       "    </tr>\n",
       "    <tr>\n",
       "      <th id=\"T_b3730_level0_row3\" class=\"row_heading level0 row3\" >min</th>\n",
       "      <td id=\"T_b3730_row3_col0\" class=\"data row3 col0\" >-10196.860000</td>\n",
       "      <td id=\"T_b3730_row3_col1\" class=\"data row3 col1\" >-993.240000</td>\n",
       "      <td id=\"T_b3730_row3_col2\" class=\"data row3 col2\" >-14318.710000</td>\n",
       "      <td id=\"T_b3730_row3_col3\" class=\"data row3 col3\" >-570.060000</td>\n",
       "      <td id=\"T_b3730_row3_col4\" class=\"data row3 col4\" >-19061.650000</td>\n",
       "      <td id=\"T_b3730_row3_col5\" class=\"data row3 col5\" >1.000000</td>\n",
       "    </tr>\n",
       "    <tr>\n",
       "      <th id=\"T_b3730_level0_row4\" class=\"row_heading level0 row4\" >25%</th>\n",
       "      <td id=\"T_b3730_row4_col0\" class=\"data row4 col0\" >7599.760000</td>\n",
       "      <td id=\"T_b3730_row4_col1\" class=\"data row4 col1\" >0.000000</td>\n",
       "      <td id=\"T_b3730_row4_col2\" class=\"data row4 col2\" >1.577500</td>\n",
       "      <td id=\"T_b3730_row4_col3\" class=\"data row4 col3\" >1465.520000</td>\n",
       "      <td id=\"T_b3730_row4_col4\" class=\"data row4 col4\" >10160.372500</td>\n",
       "      <td id=\"T_b3730_row4_col5\" class=\"data row4 col5\" >4265.750000</td>\n",
       "    </tr>\n",
       "    <tr>\n",
       "      <th id=\"T_b3730_level0_row5\" class=\"row_heading level0 row5\" >50%</th>\n",
       "      <td id=\"T_b3730_row5_col0\" class=\"data row5 col0\" >52356.670000</td>\n",
       "      <td id=\"T_b3730_row5_col1\" class=\"data row5 col1\" >0.000000</td>\n",
       "      <td id=\"T_b3730_row5_col2\" class=\"data row5 col2\" >11201.400000</td>\n",
       "      <td id=\"T_b3730_row5_col3\" class=\"data row5 col3\" >9580.790000</td>\n",
       "      <td id=\"T_b3730_row5_col4\" class=\"data row5 col4\" >75959.800000</td>\n",
       "      <td id=\"T_b3730_row5_col5\" class=\"data row5 col5\" >8530.500000</td>\n",
       "    </tr>\n",
       "    <tr>\n",
       "      <th id=\"T_b3730_level0_row6\" class=\"row_heading level0 row6\" >75%</th>\n",
       "      <td id=\"T_b3730_row6_col0\" class=\"data row6 col0\" >92012.095000</td>\n",
       "      <td id=\"T_b3730_row6_col1\" class=\"data row6 col1\" >766.167500</td>\n",
       "      <td id=\"T_b3730_row6_col2\" class=\"data row6 col2\" >16837.395000</td>\n",
       "      <td id=\"T_b3730_row6_col3\" class=\"data row6 col3\" >16791.315000</td>\n",
       "      <td id=\"T_b3730_row6_col4\" class=\"data row6 col4\" >129080.477500</td>\n",
       "      <td id=\"T_b3730_row6_col5\" class=\"data row6 col5\" >12795.250000</td>\n",
       "    </tr>\n",
       "    <tr>\n",
       "      <th id=\"T_b3730_level0_row7\" class=\"row_heading level0 row7\" >max</th>\n",
       "      <td id=\"T_b3730_row7_col0\" class=\"data row7 col0\" >327212.890000</td>\n",
       "      <td id=\"T_b3730_row7_col1\" class=\"data row7 col1\" >91382.760000</td>\n",
       "      <td id=\"T_b3730_row7_col2\" class=\"data row7 col2\" >30023.230000</td>\n",
       "      <td id=\"T_b3730_row7_col3\" class=\"data row7 col3\" >52370.630000</td>\n",
       "      <td id=\"T_b3730_row7_col4\" class=\"data row7 col4\" >395086.700000</td>\n",
       "      <td id=\"T_b3730_row7_col5\" class=\"data row7 col5\" >17060.000000</td>\n",
       "    </tr>\n",
       "  </tbody>\n",
       "</table>\n"
      ],
      "text/plain": [
       "<pandas.io.formats.style.Styler at 0x7a09fffdc1c0>"
      ]
     },
     "execution_count": 13,
     "metadata": {},
     "output_type": "execute_result"
    }
   ],
   "source": [
    "data.describe().style.background_gradient(cmap='tab20c')"
   ]
  },
  {
   "cell_type": "code",
   "execution_count": 14,
   "id": "43886411",
   "metadata": {
    "execution": {
     "iopub.execute_input": "2023-08-26T03:54:16.615465Z",
     "iopub.status.busy": "2023-08-26T03:54:16.615017Z",
     "iopub.status.idle": "2023-08-26T03:54:16.642868Z",
     "shell.execute_reply": "2023-08-26T03:54:16.641720Z"
    },
    "papermill": {
     "duration": 0.046591,
     "end_time": "2023-08-26T03:54:16.645261",
     "exception": false,
     "start_time": "2023-08-26T03:54:16.598670",
     "status": "completed"
    },
    "tags": []
   },
   "outputs": [
    {
     "data": {
      "text/html": [
       "<div>\n",
       "<style scoped>\n",
       "    .dataframe tbody tr th:only-of-type {\n",
       "        vertical-align: middle;\n",
       "    }\n",
       "\n",
       "    .dataframe tbody tr th {\n",
       "        vertical-align: top;\n",
       "    }\n",
       "\n",
       "    .dataframe thead th {\n",
       "        text-align: right;\n",
       "    }\n",
       "</style>\n",
       "<table border=\"1\" class=\"dataframe\">\n",
       "  <thead>\n",
       "    <tr style=\"text-align: right;\">\n",
       "      <th></th>\n",
       "      <th>Department</th>\n",
       "      <th>Job Code</th>\n",
       "    </tr>\n",
       "  </thead>\n",
       "  <tbody>\n",
       "    <tr>\n",
       "      <th>count</th>\n",
       "      <td>17060</td>\n",
       "      <td>17060</td>\n",
       "    </tr>\n",
       "    <tr>\n",
       "      <th>unique</th>\n",
       "      <td>17</td>\n",
       "      <td>445</td>\n",
       "    </tr>\n",
       "    <tr>\n",
       "      <th>top</th>\n",
       "      <td>Parks &amp; Community Services</td>\n",
       "      <td>RMR702 - Rec Asst 2 - PBM Rate 7</td>\n",
       "    </tr>\n",
       "    <tr>\n",
       "      <th>freq</th>\n",
       "      <td>5067</td>\n",
       "      <td>1185</td>\n",
       "    </tr>\n",
       "  </tbody>\n",
       "</table>\n",
       "</div>"
      ],
      "text/plain": [
       "                        Department                          Job Code\n",
       "count                        17060                             17060\n",
       "unique                          17                               445\n",
       "top     Parks & Community Services  RMR702 - Rec Asst 2 - PBM Rate 7\n",
       "freq                          5067                              1185"
      ]
     },
     "execution_count": 14,
     "metadata": {},
     "output_type": "execute_result"
    }
   ],
   "source": [
    "data.describe(include=['object'])"
   ]
  },
  {
   "cell_type": "markdown",
   "id": "4de55c05",
   "metadata": {
    "papermill": {
     "duration": 0.014845,
     "end_time": "2023-08-26T03:54:16.675112",
     "exception": false,
     "start_time": "2023-08-26T03:54:16.660267",
     "status": "completed"
    },
    "tags": []
   },
   "source": [
    "> <span style='font-size:15px; font-family:Verdana;color: #254E58;'><b>Calculate the total wages, including regular wages, overtime, fixed benefits, and variable benefits.</b></span>"
   ]
  },
  {
   "cell_type": "code",
   "execution_count": 15,
   "id": "7f020036",
   "metadata": {
    "execution": {
     "iopub.execute_input": "2023-08-26T03:54:16.708249Z",
     "iopub.status.busy": "2023-08-26T03:54:16.707461Z",
     "iopub.status.idle": "2023-08-26T03:54:16.731473Z",
     "shell.execute_reply": "2023-08-26T03:54:16.730296Z"
    },
    "papermill": {
     "duration": 0.042944,
     "end_time": "2023-08-26T03:54:16.733867",
     "exception": false,
     "start_time": "2023-08-26T03:54:16.690923",
     "status": "completed"
    },
    "tags": []
   },
   "outputs": [
    {
     "data": {
      "text/html": [
       "<style type=\"text/css\">\n",
       "#T_42f1b_row0_col3, #T_42f1b_row0_col4, #T_42f1b_row0_col5, #T_42f1b_row0_col6, #T_42f1b_row0_col7, #T_42f1b_row0_col8, #T_42f1b_row0_col9, #T_42f1b_row1_col4, #T_42f1b_row1_col5, #T_42f1b_row1_col6, #T_42f1b_row2_col4, #T_42f1b_row2_col5, #T_42f1b_row2_col6, #T_42f1b_row2_col7, #T_42f1b_row2_col9, #T_42f1b_row3_col4, #T_42f1b_row3_col5, #T_42f1b_row4_col4, #T_42f1b_row4_col5 {\n",
       "  background-color: #3182bd;\n",
       "  color: #f1f1f1;\n",
       "}\n",
       "#T_42f1b_row1_col3, #T_42f1b_row1_col7, #T_42f1b_row1_col9, #T_42f1b_row2_col3 {\n",
       "  background-color: #6baed6;\n",
       "  color: #f1f1f1;\n",
       "}\n",
       "#T_42f1b_row1_col8 {\n",
       "  background-color: #fd8d3c;\n",
       "  color: #f1f1f1;\n",
       "}\n",
       "#T_42f1b_row2_col8 {\n",
       "  background-color: #a1d99b;\n",
       "  color: #000000;\n",
       "}\n",
       "#T_42f1b_row3_col3, #T_42f1b_row3_col6, #T_42f1b_row3_col7, #T_42f1b_row3_col9 {\n",
       "  background-color: #fdae6b;\n",
       "  color: #000000;\n",
       "}\n",
       "#T_42f1b_row3_col8 {\n",
       "  background-color: #dadaeb;\n",
       "  color: #000000;\n",
       "}\n",
       "#T_42f1b_row4_col3, #T_42f1b_row4_col6, #T_42f1b_row4_col7, #T_42f1b_row4_col8, #T_42f1b_row4_col9 {\n",
       "  background-color: #d9d9d9;\n",
       "  color: #000000;\n",
       "}\n",
       "</style>\n",
       "<table id=\"T_42f1b\">\n",
       "  <thead>\n",
       "    <tr>\n",
       "      <th class=\"blank level0\" >&nbsp;</th>\n",
       "      <th id=\"T_42f1b_level0_col0\" class=\"col_heading level0 col0\" >Year</th>\n",
       "      <th id=\"T_42f1b_level0_col1\" class=\"col_heading level0 col1\" >Department</th>\n",
       "      <th id=\"T_42f1b_level0_col2\" class=\"col_heading level0 col2\" >Job Code</th>\n",
       "      <th id=\"T_42f1b_level0_col3\" class=\"col_heading level0 col3\" >Wages</th>\n",
       "      <th id=\"T_42f1b_level0_col4\" class=\"col_heading level0 col4\" >Overtime</th>\n",
       "      <th id=\"T_42f1b_level0_col5\" class=\"col_heading level0 col5\" >Fixed Benefits</th>\n",
       "      <th id=\"T_42f1b_level0_col6\" class=\"col_heading level0 col6\" >Variable Benefits</th>\n",
       "      <th id=\"T_42f1b_level0_col7\" class=\"col_heading level0 col7\" >Total</th>\n",
       "      <th id=\"T_42f1b_level0_col8\" class=\"col_heading level0 col8\" >ObjectId</th>\n",
       "      <th id=\"T_42f1b_level0_col9\" class=\"col_heading level0 col9\" >Total Wages</th>\n",
       "    </tr>\n",
       "  </thead>\n",
       "  <tbody>\n",
       "    <tr>\n",
       "      <th id=\"T_42f1b_level0_row0\" class=\"row_heading level0 row0\" >0</th>\n",
       "      <td id=\"T_42f1b_row0_col0\" class=\"data row0 col0\" >2016-01-01 00:00:00</td>\n",
       "      <td id=\"T_42f1b_row0_col1\" class=\"data row0 col1\" >Parks & Community Services</td>\n",
       "      <td id=\"T_42f1b_row0_col2\" class=\"data row0 col2\" >AMG605 - Office Asst - PBM</td>\n",
       "      <td id=\"T_42f1b_row0_col3\" class=\"data row0 col3\" >3941.080000</td>\n",
       "      <td id=\"T_42f1b_row0_col4\" class=\"data row0 col4\" >0.000000</td>\n",
       "      <td id=\"T_42f1b_row0_col5\" class=\"data row0 col5\" >0.000000</td>\n",
       "      <td id=\"T_42f1b_row0_col6\" class=\"data row0 col6\" >449.570000</td>\n",
       "      <td id=\"T_42f1b_row0_col7\" class=\"data row0 col7\" >4390.650000</td>\n",
       "      <td id=\"T_42f1b_row0_col8\" class=\"data row0 col8\" >1</td>\n",
       "      <td id=\"T_42f1b_row0_col9\" class=\"data row0 col9\" >4390.650000</td>\n",
       "    </tr>\n",
       "    <tr>\n",
       "      <th id=\"T_42f1b_level0_row1\" class=\"row_heading level0 row1\" >1</th>\n",
       "      <td id=\"T_42f1b_row1_col0\" class=\"data row1 col0\" >2017-01-01 00:00:00</td>\n",
       "      <td id=\"T_42f1b_row1_col1\" class=\"data row1 col1\" >Parks & Community Services</td>\n",
       "      <td id=\"T_42f1b_row1_col2\" class=\"data row1 col2\" >AMG605 - Office Asst - PBM</td>\n",
       "      <td id=\"T_42f1b_row1_col3\" class=\"data row1 col3\" >5891.990000</td>\n",
       "      <td id=\"T_42f1b_row1_col4\" class=\"data row1 col4\" >0.000000</td>\n",
       "      <td id=\"T_42f1b_row1_col5\" class=\"data row1 col5\" >0.000000</td>\n",
       "      <td id=\"T_42f1b_row1_col6\" class=\"data row1 col6\" >537.200000</td>\n",
       "      <td id=\"T_42f1b_row1_col7\" class=\"data row1 col7\" >6429.190000</td>\n",
       "      <td id=\"T_42f1b_row1_col8\" class=\"data row1 col8\" >2</td>\n",
       "      <td id=\"T_42f1b_row1_col9\" class=\"data row1 col9\" >6429.190000</td>\n",
       "    </tr>\n",
       "    <tr>\n",
       "      <th id=\"T_42f1b_level0_row2\" class=\"row_heading level0 row2\" >2</th>\n",
       "      <td id=\"T_42f1b_row2_col0\" class=\"data row2 col0\" >2018-01-01 00:00:00</td>\n",
       "      <td id=\"T_42f1b_row2_col1\" class=\"data row2 col1\" >Parks & Community Services</td>\n",
       "      <td id=\"T_42f1b_row2_col2\" class=\"data row2 col2\" >AMG605 - Office Asst - PBM</td>\n",
       "      <td id=\"T_42f1b_row2_col3\" class=\"data row2 col3\" >5103.080000</td>\n",
       "      <td id=\"T_42f1b_row2_col4\" class=\"data row2 col4\" >0.000000</td>\n",
       "      <td id=\"T_42f1b_row2_col5\" class=\"data row2 col5\" >0.000000</td>\n",
       "      <td id=\"T_42f1b_row2_col6\" class=\"data row2 col6\" >449.300000</td>\n",
       "      <td id=\"T_42f1b_row2_col7\" class=\"data row2 col7\" >5552.380000</td>\n",
       "      <td id=\"T_42f1b_row2_col8\" class=\"data row2 col8\" >3</td>\n",
       "      <td id=\"T_42f1b_row2_col9\" class=\"data row2 col9\" >5552.380000</td>\n",
       "    </tr>\n",
       "    <tr>\n",
       "      <th id=\"T_42f1b_level0_row3\" class=\"row_heading level0 row3\" >3</th>\n",
       "      <td id=\"T_42f1b_row3_col0\" class=\"data row3 col0\" >2014-01-01 00:00:00</td>\n",
       "      <td id=\"T_42f1b_row3_col1\" class=\"data row3 col1\" >Parks & Community Services</td>\n",
       "      <td id=\"T_42f1b_row3_col2\" class=\"data row3 col2\" >AMG605 - Office Asst - PBM</td>\n",
       "      <td id=\"T_42f1b_row3_col3\" class=\"data row3 col3\" >10426.250000</td>\n",
       "      <td id=\"T_42f1b_row3_col4\" class=\"data row3 col4\" >0.000000</td>\n",
       "      <td id=\"T_42f1b_row3_col5\" class=\"data row3 col5\" >0.000000</td>\n",
       "      <td id=\"T_42f1b_row3_col6\" class=\"data row3 col6\" >1205.970000</td>\n",
       "      <td id=\"T_42f1b_row3_col7\" class=\"data row3 col7\" >11632.220000</td>\n",
       "      <td id=\"T_42f1b_row3_col8\" class=\"data row3 col8\" >4</td>\n",
       "      <td id=\"T_42f1b_row3_col9\" class=\"data row3 col9\" >11632.220000</td>\n",
       "    </tr>\n",
       "    <tr>\n",
       "      <th id=\"T_42f1b_level0_row4\" class=\"row_heading level0 row4\" >4</th>\n",
       "      <td id=\"T_42f1b_row4_col0\" class=\"data row4 col0\" >2015-01-01 00:00:00</td>\n",
       "      <td id=\"T_42f1b_row4_col1\" class=\"data row4 col1\" >Parks & Community Services</td>\n",
       "      <td id=\"T_42f1b_row4_col2\" class=\"data row4 col2\" >AMG605 - Office Asst - PBM</td>\n",
       "      <td id=\"T_42f1b_row4_col3\" class=\"data row4 col3\" >24947.100000</td>\n",
       "      <td id=\"T_42f1b_row4_col4\" class=\"data row4 col4\" >0.000000</td>\n",
       "      <td id=\"T_42f1b_row4_col5\" class=\"data row4 col5\" >0.000000</td>\n",
       "      <td id=\"T_42f1b_row4_col6\" class=\"data row4 col6\" >2802.440000</td>\n",
       "      <td id=\"T_42f1b_row4_col7\" class=\"data row4 col7\" >27749.540000</td>\n",
       "      <td id=\"T_42f1b_row4_col8\" class=\"data row4 col8\" >5</td>\n",
       "      <td id=\"T_42f1b_row4_col9\" class=\"data row4 col9\" >27749.540000</td>\n",
       "    </tr>\n",
       "  </tbody>\n",
       "</table>\n"
      ],
      "text/plain": [
       "<pandas.io.formats.style.Styler at 0x7a09ed9e3c70>"
      ]
     },
     "execution_count": 15,
     "metadata": {},
     "output_type": "execute_result"
    }
   ],
   "source": [
    "data['Total Wages'] = data['Wages'] + data['Overtime'] + data['Fixed Benefits'] + data['Variable Benefits']\n",
    "\n",
    "# Print the updated DataFrame\n",
    "data.head().style.background_gradient(cmap='tab20c')\n"
   ]
  },
  {
   "cell_type": "markdown",
   "id": "a3ed1052",
   "metadata": {
    "papermill": {
     "duration": 0.015222,
     "end_time": "2023-08-26T03:54:16.764832",
     "exception": false,
     "start_time": "2023-08-26T03:54:16.749610",
     "status": "completed"
    },
    "tags": []
   },
   "source": [
    "> <span style='font-size:15px; font-family:Verdana;color: #254E58;'><b>Group data by department and calculate total wages for each department.</b></span>"
   ]
  },
  {
   "cell_type": "code",
   "execution_count": 16,
   "id": "a74588fe",
   "metadata": {
    "execution": {
     "iopub.execute_input": "2023-08-26T03:54:16.797349Z",
     "iopub.status.busy": "2023-08-26T03:54:16.796916Z",
     "iopub.status.idle": "2023-08-26T03:54:16.808472Z",
     "shell.execute_reply": "2023-08-26T03:54:16.807437Z"
    },
    "papermill": {
     "duration": 0.030735,
     "end_time": "2023-08-26T03:54:16.810920",
     "exception": false,
     "start_time": "2023-08-26T03:54:16.780185",
     "status": "completed"
    },
    "tags": []
   },
   "outputs": [
    {
     "name": "stdout",
     "output_type": "stream",
     "text": [
      "Top 5 Departments by Total Wages:\n",
      "Department\n",
      "0                     -87.69\n",
      "All Depts            5089.70\n",
      "City Attorney    27731982.45\n",
      "City Clerk       13233865.89\n",
      "City Council      2501277.44\n"
     ]
    }
   ],
   "source": [
    "department_wages = data.groupby('Department')['Total Wages'].sum()\n",
    "\n",
    "# Print the first few rows of the department_wages Series with custom formatting\n",
    "print(\"Top 5 Departments by Total Wages:\")\n",
    "print(department_wages.head().to_string())\n"
   ]
  },
  {
   "cell_type": "markdown",
   "id": "a368520f",
   "metadata": {
    "papermill": {
     "duration": 0.015077,
     "end_time": "2023-08-26T03:54:16.841617",
     "exception": false,
     "start_time": "2023-08-26T03:54:16.826540",
     "status": "completed"
    },
    "tags": []
   },
   "source": [
    "# <div style=\"color:yellow;display:inline-block;border-radius:5px;background-color:#0000FF;font-family:Nexa;overflow:hidden\"><p style=\"padding:15px;color:yellow;overflow:hidden;font-size:100%;letter-spacing:0.5px;margin:0\"><b>6️⃣. </b>Data Visualization</p></div>\n",
    "\n"
   ]
  },
  {
   "cell_type": "markdown",
   "id": "2ff635a6",
   "metadata": {
    "papermill": {
     "duration": 0.015868,
     "end_time": "2023-08-26T03:54:16.872568",
     "exception": false,
     "start_time": "2023-08-26T03:54:16.856700",
     "status": "completed"
    },
    "tags": []
   },
   "source": [
    "> <span style='font-size:15px; font-family:Verdana; color: #254E58;'>\n",
    "    <b>Create visualizations to represent insights from the data:</b>\n",
    "    <ul style='font-size:15px; font-family:Verdana; color: #254E58;'>\n",
    "        <li>A bar plot showing the distribution of wages across departments.</li>\n",
    "        <li>A line plot to visualize changes in wages over the years.</li>\n",
    "    </ul>\n",
    "> </span>\n"
   ]
  },
  {
   "cell_type": "code",
   "execution_count": 17,
   "id": "113a171a",
   "metadata": {
    "_kg_hide-input": true,
    "execution": {
     "iopub.execute_input": "2023-08-26T03:54:16.907359Z",
     "iopub.status.busy": "2023-08-26T03:54:16.906205Z",
     "iopub.status.idle": "2023-08-26T03:54:17.696237Z",
     "shell.execute_reply": "2023-08-26T03:54:17.695385Z"
    },
    "papermill": {
     "duration": 0.80872,
     "end_time": "2023-08-26T03:54:17.698381",
     "exception": false,
     "start_time": "2023-08-26T03:54:16.889661",
     "status": "completed"
    },
    "tags": []
   },
   "outputs": [
    {
     "data": {
      "image/png": "[encoded data removed]",
      "text/plain": [
       "<Figure size 1000x600 with 1 Axes>"
      ]
     },
     "metadata": {
      "needs_background": "light"
     },
     "output_type": "display_data"
    }
   ],
   "source": [
    "plt.figure(figsize=(10, 6))\n",
    "department_wages.sort_values(ascending=False).plot(kind='bar')\n",
    "plt.title('Total Wages by Department')\n",
    "plt.ylabel('Total Wages')\n",
    "plt.xlabel('Department')\n",
    "plt.xticks(rotation=45)\n",
    "plt.savefig('Total Wages by Department.png')\n",
    "plt.show()"
   ]
  },
  {
   "cell_type": "code",
   "execution_count": 18,
   "id": "8cf70553",
   "metadata": {
    "_kg_hide-input": true,
    "execution": {
     "iopub.execute_input": "2023-08-26T03:54:17.735812Z",
     "iopub.status.busy": "2023-08-26T03:54:17.734744Z",
     "iopub.status.idle": "2023-08-26T03:54:18.303109Z",
     "shell.execute_reply": "2023-08-26T03:54:18.301999Z"
    },
    "papermill": {
     "duration": 0.589936,
     "end_time": "2023-08-26T03:54:18.305698",
     "exception": false,
     "start_time": "2023-08-26T03:54:17.715762",
     "status": "completed"
    },
    "tags": []
   },
   "outputs": [
    {
     "data": {
      "image/png": "[encoded data removed]",
      "text/plain": [
       "<Figure size 1000x600 with 1 Axes>"
      ]
     },
     "metadata": {
      "needs_background": "light"
     },
     "output_type": "display_data"
    }
   ],
   "source": [
    "plt.figure(figsize=(10, 6))\n",
    "data.groupby('Year')['Total Wages'].mean().plot(kind='line')\n",
    "plt.title('Average Wages Over the Years')\n",
    "plt.ylabel('Average Wages')\n",
    "plt.xlabel('Year')\n",
    "plt.savefig('Average Wages Over the Years.png')\n",
    "plt.show()"
   ]
  },
  {
   "cell_type": "markdown",
   "id": "4a17f30f",
   "metadata": {
    "papermill": {
     "duration": 0.017975,
     "end_time": "2023-08-26T03:54:18.341999",
     "exception": false,
     "start_time": "2023-08-26T03:54:18.324024",
     "status": "completed"
    },
    "tags": []
   },
   "source": [
    "> <span style='font-size:15px; font-family:Verdana;color: #254E58;'><b>Visualize the correlation map to understand the relationships between columns.</b></span>\n"
   ]
  },
  {
   "cell_type": "code",
   "execution_count": 19,
   "id": "d83ce44c",
   "metadata": {
    "execution": {
     "iopub.execute_input": "2023-08-26T03:54:18.380269Z",
     "iopub.status.busy": "2023-08-26T03:54:18.379634Z",
     "iopub.status.idle": "2023-08-26T03:54:19.176949Z",
     "shell.execute_reply": "2023-08-26T03:54:19.175721Z"
    },
    "papermill": {
     "duration": 0.819745,
     "end_time": "2023-08-26T03:54:19.179782",
     "exception": false,
     "start_time": "2023-08-26T03:54:18.360037",
     "status": "completed"
    },
    "tags": []
   },
   "outputs": [
    {
     "data": {
      "image/png": "[encoded data removed]",
      "text/plain": [
       "<Figure size 1000x400 with 2 Axes>"
      ]
     },
     "metadata": {
      "needs_background": "light"
     },
     "output_type": "display_data"
    }
   ],
   "source": [
    "# Checking the correlation matrix\n",
    "plt.figure(figsize=(10, 4))\n",
    "sns.heatmap(data.corr(), annot=True, cmap='winter_r', fmt='.2f', linewidths=1)\n",
    "plt.title(\"Correlation map\")\n",
    "plt.savefig('Correlation map.png')\n",
    "plt.show()"
   ]
  },
  {
   "cell_type": "markdown",
   "id": "96279b55",
   "metadata": {
    "papermill": {
     "duration": 0.019662,
     "end_time": "2023-08-26T03:54:19.219171",
     "exception": false,
     "start_time": "2023-08-26T03:54:19.199509",
     "status": "completed"
    },
    "tags": []
   },
   "source": [
    "# <div style=\"color:yellow;display:inline-block;border-radius:5px;background-color:#0000FF;font-family:Nexa;overflow:hidden\"><p style=\"padding:15px;color:yellow;overflow:hidden;font-size:100%;letter-spacing:0.5px;margin:0\"><b>7️⃣. </b>Insights and Analysis</p></div>"
   ]
  },
  {
   "cell_type": "code",
   "execution_count": 20,
   "id": "fb448c37",
   "metadata": {
    "execution": {
     "iopub.execute_input": "2023-08-26T03:54:19.260231Z",
     "iopub.status.busy": "2023-08-26T03:54:19.259823Z",
     "iopub.status.idle": "2023-08-26T03:54:19.265365Z",
     "shell.execute_reply": "2023-08-26T03:54:19.264627Z"
    },
    "papermill": {
     "duration": 0.029462,
     "end_time": "2023-08-26T03:54:19.268541",
     "exception": false,
     "start_time": "2023-08-26T03:54:19.239079",
     "status": "completed"
    },
    "tags": []
   },
   "outputs": [
    {
     "name": "stdout",
     "output_type": "stream",
     "text": [
      "Highest average wage department: Fire\n",
      "Lowest average wage department: 0\n"
     ]
    }
   ],
   "source": [
    "highest_wage_dept = department_wages.idxmax()\n",
    "lowest_wage_dept = department_wages.idxmin()\n",
    "print(f'Highest average wage department: {highest_wage_dept}')\n",
    "print(f'Lowest average wage department: {lowest_wage_dept}')\n"
   ]
  },
  {
   "cell_type": "markdown",
   "id": "ab5eff4b",
   "metadata": {
    "papermill": {
     "duration": 0.019027,
     "end_time": "2023-08-26T03:54:19.306827",
     "exception": false,
     "start_time": "2023-08-26T03:54:19.287800",
     "status": "completed"
    },
    "tags": []
   },
   "source": [
    "# <div style=\"color:yellow;display:inline-block;border-radius:5px;background-color:#0000FF;font-family:Nexa;overflow:hidden\"><p style=\"padding:15px;color:yellow;overflow:hidden;font-size:100%;letter-spacing:0.5px;margin:0\"><b>8️⃣. </b>Build Model and Prediction</p></div>\n",
    "\n",
    "\n"
   ]
  },
  {
   "cell_type": "code",
   "execution_count": 21,
   "id": "5b8d6b4f",
   "metadata": {
    "_kg_hide-input": true,
    "execution": {
     "iopub.execute_input": "2023-08-26T03:54:19.347679Z",
     "iopub.status.busy": "2023-08-26T03:54:19.346752Z",
     "iopub.status.idle": "2023-08-26T03:54:19.417327Z",
     "shell.execute_reply": "2023-08-26T03:54:19.416124Z"
    },
    "papermill": {
     "duration": 0.093624,
     "end_time": "2023-08-26T03:54:19.419816",
     "exception": false,
     "start_time": "2023-08-26T03:54:19.326192",
     "status": "completed"
    },
    "tags": []
   },
   "outputs": [],
   "source": [
    "data = pd.read_csv('/kaggle/input/salaries-and-benefits-by-job-title/Salaries_and_Benefits_by_Job_Title.csv')\n",
    "\n",
    "data.fillna(0, inplace=True)\n",
    "data['Total Wages'] = data['Wages'] + data['Overtime'] + data['Fixed Benefits'] + data['Variable Benefits']\n",
    "data = data[data['Year'] != 'GRAND TOTAL']  \n",
    "X = data.drop(['Year', 'Department', 'Job Code', 'Total', 'ObjectId'], axis=1)\n",
    "y = data['Department']\n",
    "X_train, X_test, y_train, y_test = train_test_split(X, y, test_size=0.2, random_state=42)\n"
   ]
  },
  {
   "cell_type": "code",
   "execution_count": 22,
   "id": "1cbaf779",
   "metadata": {
    "_kg_hide-input": true,
    "execution": {
     "iopub.execute_input": "2023-08-26T03:54:19.460618Z",
     "iopub.status.busy": "2023-08-26T03:54:19.460192Z",
     "iopub.status.idle": "2023-08-26T03:54:19.555968Z",
     "shell.execute_reply": "2023-08-26T03:54:19.554288Z"
    },
    "papermill": {
     "duration": 0.119103,
     "end_time": "2023-08-26T03:54:19.558598",
     "exception": false,
     "start_time": "2023-08-26T03:54:19.439495",
     "status": "completed"
    },
    "tags": []
   },
   "outputs": [
    {
     "name": "stdout",
     "output_type": "stream",
     "text": [
      "['Parks & Community Services' 'Finance & Asset Management'\n",
      " 'Transportation' 'Community Development' 'City Attorney' 'Utilities'\n",
      " 'Development Services' 'Fire' 'City Clerk' 'Information Technology'\n",
      " 'City Manager' 'Human Resources' 'Miscellaneous Non-Departmental'\n",
      " 'Police' 'City Council' 'All Depts' nan]\n"
     ]
    }
   ],
   "source": [
    "from sklearn.preprocessing import LabelEncoder\n",
    "\n",
    "# Load your dataset \n",
    "data = pd.read_csv('/kaggle/input/salaries-and-benefits-by-job-title/Salaries_and_Benefits_by_Job_Title.csv')\n",
    "\n",
    "# Preprocessing\n",
    "data.fillna(0, inplace=True)\n",
    "data['Total Wages'] = data['Wages'] + data['Overtime'] + data['Fixed Benefits'] + data['Variable Benefits']\n",
    "\n",
    "# Clean the 'Department' column by stripping whitespace\n",
    "data['Department'] = data['Department'].str.strip()\n",
    "\n",
    "# Check unique values in 'Department'\n",
    "unique_departments = data['Department'].unique()\n",
    "print(unique_departments)\n",
    "\n",
    "# Encode the target variable using LabelEncoder\n",
    "label_encoder = LabelEncoder()\n",
    "y_encoded = label_encoder.fit_transform(data['Department'])\n",
    "\n",
    "\n",
    "X = data.drop(['Year', 'Department', 'Job Code', 'Total', 'ObjectId'], axis=1)\n",
    "y = y_encoded\n",
    "X_train, X_test, y_train, y_test = train_test_split(X, y, test_size=0.2, random_state=42)\n"
   ]
  },
  {
   "cell_type": "code",
   "execution_count": 23,
   "id": "4e2e894c",
   "metadata": {
    "execution": {
     "iopub.execute_input": "2023-08-26T03:54:19.598772Z",
     "iopub.status.busy": "2023-08-26T03:54:19.598317Z",
     "iopub.status.idle": "2023-08-26T03:54:19.609748Z",
     "shell.execute_reply": "2023-08-26T03:54:19.608596Z"
    },
    "papermill": {
     "duration": 0.034031,
     "end_time": "2023-08-26T03:54:19.612237",
     "exception": false,
     "start_time": "2023-08-26T03:54:19.578206",
     "status": "completed"
    },
    "tags": []
   },
   "outputs": [],
   "source": [
    "# Scaling\n",
    "scaler = StandardScaler()\n",
    "X_train_scaled = scaler.fit_transform(X_train)\n",
    "X_test_scaled = scaler.transform(X_test)\n"
   ]
  },
  {
   "cell_type": "code",
   "execution_count": 24,
   "id": "93d1f6bf",
   "metadata": {
    "_kg_hide-input": true,
    "execution": {
     "iopub.execute_input": "2023-08-26T03:54:19.653175Z",
     "iopub.status.busy": "2023-08-26T03:54:19.652387Z",
     "iopub.status.idle": "2023-08-26T03:55:13.266262Z",
     "shell.execute_reply": "2023-08-26T03:55:13.265464Z"
    },
    "papermill": {
     "duration": 53.637068,
     "end_time": "2023-08-26T03:55:13.268653",
     "exception": false,
     "start_time": "2023-08-26T03:54:19.631585",
     "status": "completed"
    },
    "tags": []
   },
   "outputs": [
    {
     "name": "stdout",
     "output_type": "stream",
     "text": [
      "Learning rate set to 0.090409\n",
      "0:\tlearn: 2.5147829\ttotal: 105ms\tremaining: 1m 44s\n",
      "1:\tlearn: 2.3689136\ttotal: 146ms\tremaining: 1m 13s\n",
      "2:\tlearn: 2.2606778\ttotal: 180ms\tremaining: 59.9s\n",
      "3:\tlearn: 2.1799823\ttotal: 215ms\tremaining: 53.6s\n",
      "4:\tlearn: 2.1122339\ttotal: 248ms\tremaining: 49.4s\n",
      "5:\tlearn: 2.0588428\ttotal: 281ms\tremaining: 46.5s\n",
      "6:\tlearn: 2.0097616\ttotal: 316ms\tremaining: 44.8s\n",
      "7:\tlearn: 1.9702120\ttotal: 351ms\tremaining: 43.5s\n",
      "8:\tlearn: 1.9382367\ttotal: 386ms\tremaining: 42.5s\n",
      "9:\tlearn: 1.9095489\ttotal: 424ms\tremaining: 42s\n",
      "10:\tlearn: 1.8822105\ttotal: 456ms\tremaining: 41s\n",
      "11:\tlearn: 1.8562424\ttotal: 490ms\tremaining: 40.3s\n",
      "12:\tlearn: 1.8338961\ttotal: 524ms\tremaining: 39.8s\n",
      "13:\tlearn: 1.8137923\ttotal: 557ms\tremaining: 39.2s\n",
      "14:\tlearn: 1.7974139\ttotal: 590ms\tremaining: 38.7s\n",
      "15:\tlearn: 1.7823238\ttotal: 622ms\tremaining: 38.2s\n",
      "16:\tlearn: 1.7684867\ttotal: 655ms\tremaining: 37.9s\n",
      "17:\tlearn: 1.7563003\ttotal: 690ms\tremaining: 37.7s\n",
      "18:\tlearn: 1.7437391\ttotal: 724ms\tremaining: 37.4s\n",
      "19:\tlearn: 1.7328181\ttotal: 758ms\tremaining: 37.1s\n",
      "20:\tlearn: 1.7228309\ttotal: 791ms\tremaining: 36.9s\n",
      "21:\tlearn: 1.7130627\ttotal: 824ms\tremaining: 36.6s\n",
      "22:\tlearn: 1.7038182\ttotal: 862ms\tremaining: 36.6s\n",
      "23:\tlearn: 1.6962629\ttotal: 895ms\tremaining: 36.4s\n",
      "24:\tlearn: 1.6891171\ttotal: 931ms\tremaining: 36.3s\n",
      "25:\tlearn: 1.6835236\ttotal: 964ms\tremaining: 36.1s\n",
      "26:\tlearn: 1.6770591\ttotal: 997ms\tremaining: 35.9s\n",
      "27:\tlearn: 1.6706606\ttotal: 1.03s\tremaining: 35.9s\n",
      "28:\tlearn: 1.6642448\ttotal: 1.07s\tremaining: 35.8s\n",
      "29:\tlearn: 1.6594299\ttotal: 1.1s\tremaining: 35.6s\n",
      "30:\tlearn: 1.6548051\ttotal: 1.13s\tremaining: 35.4s\n",
      "31:\tlearn: 1.6504817\ttotal: 1.17s\tremaining: 35.3s\n",
      "32:\tlearn: 1.6465366\ttotal: 1.2s\tremaining: 35.1s\n",
      "33:\tlearn: 1.6425772\ttotal: 1.23s\tremaining: 35s\n",
      "34:\tlearn: 1.6383706\ttotal: 1.26s\tremaining: 34.8s\n",
      "35:\tlearn: 1.6344234\ttotal: 1.3s\tremaining: 34.7s\n",
      "36:\tlearn: 1.6312273\ttotal: 1.33s\tremaining: 34.6s\n",
      "37:\tlearn: 1.6282389\ttotal: 1.36s\tremaining: 34.5s\n",
      "38:\tlearn: 1.6237590\ttotal: 1.39s\tremaining: 34.4s\n",
      "39:\tlearn: 1.6207050\ttotal: 1.43s\tremaining: 34.2s\n",
      "40:\tlearn: 1.6183969\ttotal: 1.46s\tremaining: 34.1s\n",
      "41:\tlearn: 1.6152169\ttotal: 1.49s\tremaining: 34s\n",
      "42:\tlearn: 1.6113066\ttotal: 1.52s\tremaining: 33.9s\n",
      "43:\tlearn: 1.6087763\ttotal: 1.55s\tremaining: 33.8s\n",
      "44:\tlearn: 1.6065912\ttotal: 1.59s\tremaining: 33.7s\n",
      "45:\tlearn: 1.6045151\ttotal: 1.62s\tremaining: 33.6s\n",
      "46:\tlearn: 1.6013331\ttotal: 1.65s\tremaining: 33.5s\n",
      "47:\tlearn: 1.5988404\ttotal: 1.69s\tremaining: 33.4s\n",
      "48:\tlearn: 1.5967180\ttotal: 1.72s\tremaining: 33.3s\n",
      "49:\tlearn: 1.5949064\ttotal: 1.75s\tremaining: 33.3s\n",
      "50:\tlearn: 1.5923433\ttotal: 1.78s\tremaining: 33.2s\n",
      "51:\tlearn: 1.5901773\ttotal: 1.82s\tremaining: 33.1s\n",
      "52:\tlearn: 1.5883362\ttotal: 1.85s\tremaining: 33.1s\n",
      "53:\tlearn: 1.5863818\ttotal: 1.88s\tremaining: 33s\n",
      "54:\tlearn: 1.5848772\ttotal: 1.92s\tremaining: 32.9s\n",
      "55:\tlearn: 1.5833655\ttotal: 1.95s\tremaining: 32.9s\n",
      "56:\tlearn: 1.5802518\ttotal: 1.98s\tremaining: 32.8s\n",
      "57:\tlearn: 1.5776258\ttotal: 2.01s\tremaining: 32.7s\n",
      "58:\tlearn: 1.5762636\ttotal: 2.05s\tremaining: 32.7s\n",
      "59:\tlearn: 1.5737017\ttotal: 2.08s\tremaining: 32.6s\n",
      "60:\tlearn: 1.5722492\ttotal: 2.12s\tremaining: 32.6s\n",
      "61:\tlearn: 1.5697294\ttotal: 2.15s\tremaining: 32.5s\n",
      "62:\tlearn: 1.5685526\ttotal: 2.18s\tremaining: 32.5s\n",
      "63:\tlearn: 1.5667341\ttotal: 2.21s\tremaining: 32.4s\n",
      "64:\tlearn: 1.5647148\ttotal: 2.25s\tremaining: 32.4s\n",
      "65:\tlearn: 1.5626679\ttotal: 2.28s\tremaining: 32.3s\n",
      "66:\tlearn: 1.5608668\ttotal: 2.31s\tremaining: 32.2s\n",
      "67:\tlearn: 1.5598324\ttotal: 2.35s\tremaining: 32.2s\n",
      "68:\tlearn: 1.5584253\ttotal: 2.38s\tremaining: 32.2s\n",
      "69:\tlearn: 1.5571569\ttotal: 2.42s\tremaining: 32.1s\n",
      "70:\tlearn: 1.5551448\ttotal: 2.45s\tremaining: 32.1s\n",
      "71:\tlearn: 1.5541405\ttotal: 2.48s\tremaining: 32s\n",
      "72:\tlearn: 1.5522481\ttotal: 2.52s\tremaining: 32s\n",
      "73:\tlearn: 1.5501989\ttotal: 2.56s\tremaining: 32s\n",
      "74:\tlearn: 1.5493833\ttotal: 2.59s\tremaining: 32s\n",
      "75:\tlearn: 1.5479498\ttotal: 2.63s\tremaining: 31.9s\n",
      "76:\tlearn: 1.5465154\ttotal: 2.66s\tremaining: 31.9s\n",
      "77:\tlearn: 1.5447927\ttotal: 2.7s\tremaining: 31.9s\n",
      "78:\tlearn: 1.5437170\ttotal: 2.73s\tremaining: 31.9s\n",
      "79:\tlearn: 1.5420982\ttotal: 2.78s\tremaining: 32s\n",
      "80:\tlearn: 1.5404522\ttotal: 2.82s\tremaining: 32s\n",
      "81:\tlearn: 1.5392337\ttotal: 2.87s\tremaining: 32.1s\n",
      "82:\tlearn: 1.5382135\ttotal: 2.9s\tremaining: 32s\n",
      "83:\tlearn: 1.5373459\ttotal: 2.93s\tremaining: 32s\n",
      "84:\tlearn: 1.5356420\ttotal: 2.97s\tremaining: 32s\n",
      "85:\tlearn: 1.5339367\ttotal: 3s\tremaining: 31.9s\n",
      "86:\tlearn: 1.5324867\ttotal: 3.04s\tremaining: 31.9s\n",
      "87:\tlearn: 1.5308536\ttotal: 3.08s\tremaining: 31.9s\n",
      "88:\tlearn: 1.5296508\ttotal: 3.11s\tremaining: 31.8s\n",
      "89:\tlearn: 1.5287767\ttotal: 3.14s\tremaining: 31.8s\n",
      "90:\tlearn: 1.5276453\ttotal: 3.17s\tremaining: 31.7s\n",
      "91:\tlearn: 1.5266740\ttotal: 3.21s\tremaining: 31.7s\n",
      "92:\tlearn: 1.5261568\ttotal: 3.24s\tremaining: 31.6s\n",
      "93:\tlearn: 1.5253088\ttotal: 3.27s\tremaining: 31.6s\n",
      "94:\tlearn: 1.5243208\ttotal: 3.31s\tremaining: 31.5s\n",
      "95:\tlearn: 1.5229021\ttotal: 3.34s\tremaining: 31.5s\n",
      "96:\tlearn: 1.5219189\ttotal: 3.38s\tremaining: 31.4s\n",
      "97:\tlearn: 1.5210618\ttotal: 3.41s\tremaining: 31.4s\n",
      "98:\tlearn: 1.5196123\ttotal: 3.45s\tremaining: 31.4s\n",
      "99:\tlearn: 1.5183432\ttotal: 3.48s\tremaining: 31.3s\n",
      "100:\tlearn: 1.5172461\ttotal: 3.51s\tremaining: 31.3s\n",
      "101:\tlearn: 1.5159354\ttotal: 3.55s\tremaining: 31.2s\n",
      "102:\tlearn: 1.5155111\ttotal: 3.58s\tremaining: 31.2s\n",
      "103:\tlearn: 1.5141784\ttotal: 3.62s\tremaining: 31.2s\n",
      "104:\tlearn: 1.5131734\ttotal: 3.65s\tremaining: 31.1s\n",
      "105:\tlearn: 1.5125236\ttotal: 3.69s\tremaining: 31.1s\n",
      "106:\tlearn: 1.5115945\ttotal: 3.72s\tremaining: 31.1s\n",
      "107:\tlearn: 1.5105507\ttotal: 3.75s\tremaining: 31s\n",
      "108:\tlearn: 1.5100565\ttotal: 3.79s\tremaining: 31s\n",
      "109:\tlearn: 1.5096208\ttotal: 3.82s\tremaining: 30.9s\n",
      "110:\tlearn: 1.5090616\ttotal: 3.86s\tremaining: 30.9s\n",
      "111:\tlearn: 1.5075108\ttotal: 3.89s\tremaining: 30.9s\n",
      "112:\tlearn: 1.5064020\ttotal: 3.93s\tremaining: 30.8s\n",
      "113:\tlearn: 1.5057126\ttotal: 3.96s\tremaining: 30.8s\n",
      "114:\tlearn: 1.5049621\ttotal: 3.99s\tremaining: 30.7s\n",
      "115:\tlearn: 1.5044782\ttotal: 4.03s\tremaining: 30.7s\n",
      "116:\tlearn: 1.5039431\ttotal: 4.06s\tremaining: 30.7s\n",
      "117:\tlearn: 1.5030656\ttotal: 4.1s\tremaining: 30.6s\n",
      "118:\tlearn: 1.5020228\ttotal: 4.13s\tremaining: 30.6s\n",
      "119:\tlearn: 1.5017563\ttotal: 4.16s\tremaining: 30.5s\n",
      "120:\tlearn: 1.5013412\ttotal: 4.19s\tremaining: 30.4s\n",
      "121:\tlearn: 1.5005036\ttotal: 4.22s\tremaining: 30.4s\n",
      "122:\tlearn: 1.4994416\ttotal: 4.25s\tremaining: 30.3s\n",
      "123:\tlearn: 1.4990291\ttotal: 4.29s\tremaining: 30.3s\n",
      "124:\tlearn: 1.4975108\ttotal: 4.32s\tremaining: 30.3s\n",
      "125:\tlearn: 1.4966690\ttotal: 4.36s\tremaining: 30.2s\n",
      "126:\tlearn: 1.4960482\ttotal: 4.39s\tremaining: 30.2s\n",
      "127:\tlearn: 1.4943785\ttotal: 4.42s\tremaining: 30.1s\n",
      "128:\tlearn: 1.4939959\ttotal: 4.46s\tremaining: 30.1s\n",
      "129:\tlearn: 1.4931362\ttotal: 4.49s\tremaining: 30s\n",
      "130:\tlearn: 1.4924051\ttotal: 4.52s\tremaining: 30s\n",
      "131:\tlearn: 1.4919072\ttotal: 4.55s\tremaining: 29.9s\n",
      "132:\tlearn: 1.4913653\ttotal: 4.59s\tremaining: 29.9s\n",
      "133:\tlearn: 1.4910120\ttotal: 4.62s\tremaining: 29.8s\n",
      "134:\tlearn: 1.4906141\ttotal: 4.65s\tremaining: 29.8s\n",
      "135:\tlearn: 1.4899190\ttotal: 4.68s\tremaining: 29.7s\n",
      "136:\tlearn: 1.4893095\ttotal: 4.71s\tremaining: 29.7s\n",
      "137:\tlearn: 1.4889372\ttotal: 4.75s\tremaining: 29.6s\n",
      "138:\tlearn: 1.4879850\ttotal: 4.78s\tremaining: 29.6s\n",
      "139:\tlearn: 1.4876473\ttotal: 4.81s\tremaining: 29.6s\n",
      "140:\tlearn: 1.4867454\ttotal: 4.85s\tremaining: 29.5s\n",
      "141:\tlearn: 1.4864206\ttotal: 4.88s\tremaining: 29.5s\n",
      "142:\tlearn: 1.4855054\ttotal: 4.92s\tremaining: 29.5s\n",
      "143:\tlearn: 1.4851547\ttotal: 4.95s\tremaining: 29.4s\n",
      "144:\tlearn: 1.4843747\ttotal: 4.98s\tremaining: 29.4s\n",
      "145:\tlearn: 1.4840744\ttotal: 5.02s\tremaining: 29.4s\n",
      "146:\tlearn: 1.4837904\ttotal: 5.05s\tremaining: 29.3s\n",
      "147:\tlearn: 1.4825000\ttotal: 5.09s\tremaining: 29.3s\n",
      "148:\tlearn: 1.4821142\ttotal: 5.12s\tremaining: 29.3s\n",
      "149:\tlearn: 1.4817499\ttotal: 5.16s\tremaining: 29.2s\n",
      "150:\tlearn: 1.4811435\ttotal: 5.19s\tremaining: 29.2s\n",
      "151:\tlearn: 1.4807800\ttotal: 5.22s\tremaining: 29.1s\n",
      "152:\tlearn: 1.4798660\ttotal: 5.26s\tremaining: 29.1s\n",
      "153:\tlearn: 1.4791968\ttotal: 5.29s\tremaining: 29.1s\n",
      "154:\tlearn: 1.4782905\ttotal: 5.33s\tremaining: 29s\n",
      "155:\tlearn: 1.4776258\ttotal: 5.36s\tremaining: 29s\n",
      "156:\tlearn: 1.4773997\ttotal: 5.4s\tremaining: 29s\n",
      "157:\tlearn: 1.4761859\ttotal: 5.43s\tremaining: 28.9s\n",
      "158:\tlearn: 1.4751360\ttotal: 5.46s\tremaining: 28.9s\n",
      "159:\tlearn: 1.4748688\ttotal: 5.5s\tremaining: 28.9s\n",
      "160:\tlearn: 1.4743085\ttotal: 5.53s\tremaining: 28.8s\n",
      "161:\tlearn: 1.4737493\ttotal: 5.57s\tremaining: 28.8s\n",
      "162:\tlearn: 1.4715097\ttotal: 5.6s\tremaining: 28.8s\n",
      "163:\tlearn: 1.4704998\ttotal: 5.63s\tremaining: 28.7s\n",
      "164:\tlearn: 1.4695587\ttotal: 5.67s\tremaining: 28.7s\n",
      "165:\tlearn: 1.4684804\ttotal: 5.7s\tremaining: 28.6s\n",
      "166:\tlearn: 1.4672901\ttotal: 5.73s\tremaining: 28.6s\n",
      "167:\tlearn: 1.4665489\ttotal: 5.76s\tremaining: 28.6s\n",
      "168:\tlearn: 1.4659907\ttotal: 5.8s\tremaining: 28.5s\n",
      "169:\tlearn: 1.4656130\ttotal: 5.84s\tremaining: 28.5s\n",
      "170:\tlearn: 1.4651871\ttotal: 5.87s\tremaining: 28.5s\n",
      "171:\tlearn: 1.4646142\ttotal: 5.91s\tremaining: 28.4s\n",
      "172:\tlearn: 1.4635204\ttotal: 5.94s\tremaining: 28.4s\n",
      "173:\tlearn: 1.4631625\ttotal: 5.98s\tremaining: 28.4s\n",
      "174:\tlearn: 1.4627761\ttotal: 6.01s\tremaining: 28.3s\n",
      "175:\tlearn: 1.4618628\ttotal: 6.04s\tremaining: 28.3s\n",
      "176:\tlearn: 1.4612364\ttotal: 6.08s\tremaining: 28.3s\n",
      "177:\tlearn: 1.4608243\ttotal: 6.11s\tremaining: 28.2s\n",
      "178:\tlearn: 1.4604717\ttotal: 6.14s\tremaining: 28.2s\n",
      "179:\tlearn: 1.4600249\ttotal: 6.17s\tremaining: 28.1s\n",
      "180:\tlearn: 1.4593202\ttotal: 6.21s\tremaining: 28.1s\n",
      "181:\tlearn: 1.4584494\ttotal: 6.25s\tremaining: 28.1s\n",
      "182:\tlearn: 1.4570648\ttotal: 6.28s\tremaining: 28s\n",
      "183:\tlearn: 1.4554129\ttotal: 6.31s\tremaining: 28s\n",
      "184:\tlearn: 1.4550064\ttotal: 6.35s\tremaining: 28s\n",
      "185:\tlearn: 1.4541512\ttotal: 6.38s\tremaining: 27.9s\n",
      "186:\tlearn: 1.4536650\ttotal: 6.41s\tremaining: 27.9s\n",
      "187:\tlearn: 1.4530631\ttotal: 6.45s\tremaining: 27.9s\n",
      "188:\tlearn: 1.4527461\ttotal: 6.48s\tremaining: 27.8s\n",
      "189:\tlearn: 1.4525901\ttotal: 6.51s\tremaining: 27.8s\n",
      "190:\tlearn: 1.4521561\ttotal: 6.55s\tremaining: 27.7s\n",
      "191:\tlearn: 1.4512801\ttotal: 6.58s\tremaining: 27.7s\n",
      "192:\tlearn: 1.4508740\ttotal: 6.61s\tremaining: 27.6s\n",
      "193:\tlearn: 1.4498314\ttotal: 6.65s\tremaining: 27.6s\n",
      "194:\tlearn: 1.4492847\ttotal: 6.68s\tremaining: 27.6s\n",
      "195:\tlearn: 1.4490525\ttotal: 6.71s\tremaining: 27.5s\n",
      "196:\tlearn: 1.4485522\ttotal: 6.75s\tremaining: 27.5s\n",
      "197:\tlearn: 1.4475791\ttotal: 6.78s\tremaining: 27.5s\n",
      "198:\tlearn: 1.4468642\ttotal: 6.81s\tremaining: 27.4s\n",
      "199:\tlearn: 1.4454523\ttotal: 6.85s\tremaining: 27.4s\n",
      "200:\tlearn: 1.4450892\ttotal: 6.88s\tremaining: 27.3s\n",
      "201:\tlearn: 1.4445258\ttotal: 6.91s\tremaining: 27.3s\n",
      "202:\tlearn: 1.4428844\ttotal: 6.95s\tremaining: 27.3s\n",
      "203:\tlearn: 1.4425404\ttotal: 6.98s\tremaining: 27.2s\n",
      "204:\tlearn: 1.4414780\ttotal: 7.01s\tremaining: 27.2s\n",
      "205:\tlearn: 1.4411060\ttotal: 7.04s\tremaining: 27.1s\n",
      "206:\tlearn: 1.4400372\ttotal: 7.08s\tremaining: 27.1s\n",
      "207:\tlearn: 1.4392939\ttotal: 7.11s\tremaining: 27.1s\n",
      "208:\tlearn: 1.4391130\ttotal: 7.14s\tremaining: 27s\n",
      "209:\tlearn: 1.4389422\ttotal: 7.17s\tremaining: 27s\n",
      "210:\tlearn: 1.4384482\ttotal: 7.21s\tremaining: 27s\n",
      "211:\tlearn: 1.4375784\ttotal: 7.24s\tremaining: 26.9s\n",
      "212:\tlearn: 1.4370114\ttotal: 7.28s\tremaining: 26.9s\n",
      "213:\tlearn: 1.4365569\ttotal: 7.31s\tremaining: 26.8s\n",
      "214:\tlearn: 1.4363027\ttotal: 7.34s\tremaining: 26.8s\n",
      "215:\tlearn: 1.4359048\ttotal: 7.38s\tremaining: 26.8s\n",
      "216:\tlearn: 1.4348890\ttotal: 7.41s\tremaining: 26.7s\n",
      "217:\tlearn: 1.4335384\ttotal: 7.44s\tremaining: 26.7s\n",
      "218:\tlearn: 1.4331233\ttotal: 7.48s\tremaining: 26.7s\n",
      "219:\tlearn: 1.4318808\ttotal: 7.51s\tremaining: 26.6s\n",
      "220:\tlearn: 1.4315134\ttotal: 7.54s\tremaining: 26.6s\n",
      "221:\tlearn: 1.4304954\ttotal: 7.58s\tremaining: 26.6s\n",
      "222:\tlearn: 1.4295591\ttotal: 7.61s\tremaining: 26.5s\n",
      "223:\tlearn: 1.4286526\ttotal: 7.64s\tremaining: 26.5s\n",
      "224:\tlearn: 1.4282201\ttotal: 7.68s\tremaining: 26.4s\n",
      "225:\tlearn: 1.4273396\ttotal: 7.71s\tremaining: 26.4s\n",
      "226:\tlearn: 1.4268239\ttotal: 7.74s\tremaining: 26.4s\n",
      "227:\tlearn: 1.4259338\ttotal: 7.78s\tremaining: 26.3s\n",
      "228:\tlearn: 1.4251099\ttotal: 7.81s\tremaining: 26.3s\n",
      "229:\tlearn: 1.4249197\ttotal: 7.84s\tremaining: 26.3s\n",
      "230:\tlearn: 1.4245174\ttotal: 7.88s\tremaining: 26.2s\n",
      "231:\tlearn: 1.4242449\ttotal: 7.91s\tremaining: 26.2s\n",
      "232:\tlearn: 1.4231327\ttotal: 7.94s\tremaining: 26.1s\n",
      "233:\tlearn: 1.4225866\ttotal: 7.97s\tremaining: 26.1s\n",
      "234:\tlearn: 1.4220893\ttotal: 8.01s\tremaining: 26.1s\n",
      "235:\tlearn: 1.4217939\ttotal: 8.04s\tremaining: 26s\n",
      "236:\tlearn: 1.4216612\ttotal: 8.07s\tremaining: 26s\n",
      "237:\tlearn: 1.4213905\ttotal: 8.1s\tremaining: 25.9s\n",
      "238:\tlearn: 1.4208769\ttotal: 8.14s\tremaining: 25.9s\n",
      "239:\tlearn: 1.4194167\ttotal: 8.17s\tremaining: 25.9s\n",
      "240:\tlearn: 1.4191687\ttotal: 8.2s\tremaining: 25.8s\n",
      "241:\tlearn: 1.4183752\ttotal: 8.23s\tremaining: 25.8s\n",
      "242:\tlearn: 1.4178843\ttotal: 8.27s\tremaining: 25.8s\n",
      "243:\tlearn: 1.4174618\ttotal: 8.3s\tremaining: 25.7s\n",
      "244:\tlearn: 1.4166782\ttotal: 8.33s\tremaining: 25.7s\n",
      "245:\tlearn: 1.4157169\ttotal: 8.37s\tremaining: 25.6s\n",
      "246:\tlearn: 1.4152298\ttotal: 8.4s\tremaining: 25.6s\n",
      "247:\tlearn: 1.4148698\ttotal: 8.43s\tremaining: 25.6s\n",
      "248:\tlearn: 1.4144733\ttotal: 8.47s\tremaining: 25.5s\n",
      "249:\tlearn: 1.4138981\ttotal: 8.5s\tremaining: 25.5s\n",
      "250:\tlearn: 1.4131204\ttotal: 8.54s\tremaining: 25.5s\n",
      "251:\tlearn: 1.4122155\ttotal: 8.57s\tremaining: 25.4s\n",
      "252:\tlearn: 1.4112695\ttotal: 8.6s\tremaining: 25.4s\n",
      "253:\tlearn: 1.4106533\ttotal: 8.63s\tremaining: 25.4s\n",
      "254:\tlearn: 1.4103999\ttotal: 8.67s\tremaining: 25.3s\n",
      "255:\tlearn: 1.4091884\ttotal: 8.7s\tremaining: 25.3s\n",
      "256:\tlearn: 1.4087236\ttotal: 8.74s\tremaining: 25.3s\n",
      "257:\tlearn: 1.4084939\ttotal: 8.77s\tremaining: 25.2s\n",
      "258:\tlearn: 1.4079752\ttotal: 8.8s\tremaining: 25.2s\n",
      "259:\tlearn: 1.4077541\ttotal: 8.84s\tremaining: 25.1s\n",
      "260:\tlearn: 1.4074032\ttotal: 8.87s\tremaining: 25.1s\n",
      "261:\tlearn: 1.4061437\ttotal: 8.9s\tremaining: 25.1s\n",
      "262:\tlearn: 1.4058041\ttotal: 8.94s\tremaining: 25s\n",
      "263:\tlearn: 1.4052355\ttotal: 8.97s\tremaining: 25s\n",
      "264:\tlearn: 1.4049516\ttotal: 9s\tremaining: 25s\n",
      "265:\tlearn: 1.4044546\ttotal: 9.04s\tremaining: 24.9s\n",
      "266:\tlearn: 1.4035158\ttotal: 9.07s\tremaining: 24.9s\n",
      "267:\tlearn: 1.4032284\ttotal: 9.11s\tremaining: 24.9s\n",
      "268:\tlearn: 1.4027672\ttotal: 9.14s\tremaining: 24.8s\n",
      "269:\tlearn: 1.4019640\ttotal: 9.17s\tremaining: 24.8s\n",
      "270:\tlearn: 1.4016144\ttotal: 9.21s\tremaining: 24.8s\n",
      "271:\tlearn: 1.4009965\ttotal: 9.24s\tremaining: 24.7s\n",
      "272:\tlearn: 1.4003917\ttotal: 9.27s\tremaining: 24.7s\n",
      "273:\tlearn: 1.4001919\ttotal: 9.31s\tremaining: 24.7s\n",
      "274:\tlearn: 1.3995360\ttotal: 9.34s\tremaining: 24.6s\n",
      "275:\tlearn: 1.3987907\ttotal: 9.38s\tremaining: 24.6s\n",
      "276:\tlearn: 1.3985703\ttotal: 9.41s\tremaining: 24.6s\n",
      "277:\tlearn: 1.3981695\ttotal: 9.44s\tremaining: 24.5s\n",
      "278:\tlearn: 1.3977522\ttotal: 9.47s\tremaining: 24.5s\n",
      "279:\tlearn: 1.3971679\ttotal: 9.51s\tremaining: 24.4s\n",
      "280:\tlearn: 1.3970128\ttotal: 9.54s\tremaining: 24.4s\n",
      "281:\tlearn: 1.3966880\ttotal: 9.57s\tremaining: 24.4s\n",
      "282:\tlearn: 1.3958327\ttotal: 9.6s\tremaining: 24.3s\n",
      "283:\tlearn: 1.3951075\ttotal: 9.64s\tremaining: 24.3s\n",
      "284:\tlearn: 1.3949222\ttotal: 9.67s\tremaining: 24.3s\n",
      "285:\tlearn: 1.3946164\ttotal: 9.7s\tremaining: 24.2s\n",
      "286:\tlearn: 1.3939973\ttotal: 9.73s\tremaining: 24.2s\n",
      "287:\tlearn: 1.3937878\ttotal: 9.77s\tremaining: 24.1s\n",
      "288:\tlearn: 1.3933010\ttotal: 9.8s\tremaining: 24.1s\n",
      "289:\tlearn: 1.3931610\ttotal: 9.84s\tremaining: 24.1s\n",
      "290:\tlearn: 1.3922104\ttotal: 9.87s\tremaining: 24.1s\n",
      "291:\tlearn: 1.3917663\ttotal: 9.9s\tremaining: 24s\n",
      "292:\tlearn: 1.3912191\ttotal: 9.94s\tremaining: 24s\n",
      "293:\tlearn: 1.3903004\ttotal: 9.97s\tremaining: 23.9s\n",
      "294:\tlearn: 1.3897559\ttotal: 10s\tremaining: 23.9s\n",
      "295:\tlearn: 1.3896018\ttotal: 10s\tremaining: 23.9s\n",
      "296:\tlearn: 1.3892659\ttotal: 10.1s\tremaining: 23.8s\n",
      "297:\tlearn: 1.3884148\ttotal: 10.1s\tremaining: 23.8s\n",
      "298:\tlearn: 1.3879222\ttotal: 10.1s\tremaining: 23.8s\n",
      "299:\tlearn: 1.3868097\ttotal: 10.2s\tremaining: 23.7s\n",
      "300:\tlearn: 1.3861656\ttotal: 10.2s\tremaining: 23.7s\n",
      "301:\tlearn: 1.3859508\ttotal: 10.2s\tremaining: 23.7s\n",
      "302:\tlearn: 1.3854314\ttotal: 10.3s\tremaining: 23.6s\n",
      "303:\tlearn: 1.3851785\ttotal: 10.3s\tremaining: 23.6s\n",
      "304:\tlearn: 1.3847795\ttotal: 10.3s\tremaining: 23.6s\n",
      "305:\tlearn: 1.3844566\ttotal: 10.4s\tremaining: 23.5s\n",
      "306:\tlearn: 1.3834412\ttotal: 10.4s\tremaining: 23.5s\n",
      "307:\tlearn: 1.3832815\ttotal: 10.4s\tremaining: 23.5s\n",
      "308:\tlearn: 1.3828074\ttotal: 10.5s\tremaining: 23.4s\n",
      "309:\tlearn: 1.3822842\ttotal: 10.5s\tremaining: 23.4s\n",
      "310:\tlearn: 1.3816641\ttotal: 10.5s\tremaining: 23.3s\n",
      "311:\tlearn: 1.3807166\ttotal: 10.6s\tremaining: 23.3s\n",
      "312:\tlearn: 1.3802172\ttotal: 10.6s\tremaining: 23.3s\n",
      "313:\tlearn: 1.3800215\ttotal: 10.6s\tremaining: 23.2s\n",
      "314:\tlearn: 1.3795796\ttotal: 10.7s\tremaining: 23.2s\n",
      "315:\tlearn: 1.3791923\ttotal: 10.7s\tremaining: 23.2s\n",
      "316:\tlearn: 1.3790335\ttotal: 10.7s\tremaining: 23.1s\n",
      "317:\tlearn: 1.3786091\ttotal: 10.8s\tremaining: 23.1s\n",
      "318:\tlearn: 1.3784128\ttotal: 10.8s\tremaining: 23.1s\n",
      "319:\tlearn: 1.3780925\ttotal: 10.8s\tremaining: 23s\n",
      "320:\tlearn: 1.3771053\ttotal: 10.9s\tremaining: 23s\n",
      "321:\tlearn: 1.3766599\ttotal: 10.9s\tremaining: 23s\n",
      "322:\tlearn: 1.3760123\ttotal: 10.9s\tremaining: 22.9s\n",
      "323:\tlearn: 1.3749589\ttotal: 11s\tremaining: 22.9s\n",
      "324:\tlearn: 1.3740943\ttotal: 11s\tremaining: 22.9s\n",
      "325:\tlearn: 1.3736067\ttotal: 11s\tremaining: 22.8s\n",
      "326:\tlearn: 1.3729026\ttotal: 11.1s\tremaining: 22.8s\n",
      "327:\tlearn: 1.3726567\ttotal: 11.1s\tremaining: 22.8s\n",
      "328:\tlearn: 1.3723882\ttotal: 11.1s\tremaining: 22.7s\n",
      "329:\tlearn: 1.3721366\ttotal: 11.2s\tremaining: 22.7s\n",
      "330:\tlearn: 1.3718423\ttotal: 11.2s\tremaining: 22.7s\n",
      "331:\tlearn: 1.3715092\ttotal: 11.2s\tremaining: 22.6s\n",
      "332:\tlearn: 1.3707475\ttotal: 11.3s\tremaining: 22.6s\n",
      "333:\tlearn: 1.3703025\ttotal: 11.3s\tremaining: 22.6s\n",
      "334:\tlearn: 1.3700167\ttotal: 11.3s\tremaining: 22.5s\n",
      "335:\tlearn: 1.3693600\ttotal: 11.4s\tremaining: 22.5s\n",
      "336:\tlearn: 1.3689708\ttotal: 11.4s\tremaining: 22.4s\n",
      "337:\tlearn: 1.3684640\ttotal: 11.4s\tremaining: 22.4s\n",
      "338:\tlearn: 1.3675810\ttotal: 11.5s\tremaining: 22.4s\n",
      "339:\tlearn: 1.3674302\ttotal: 11.5s\tremaining: 22.3s\n",
      "340:\tlearn: 1.3666804\ttotal: 11.5s\tremaining: 22.3s\n",
      "341:\tlearn: 1.3661801\ttotal: 11.6s\tremaining: 22.3s\n",
      "342:\tlearn: 1.3660018\ttotal: 11.6s\tremaining: 22.2s\n",
      "343:\tlearn: 1.3651601\ttotal: 11.6s\tremaining: 22.2s\n",
      "344:\tlearn: 1.3648233\ttotal: 11.7s\tremaining: 22.2s\n",
      "345:\tlearn: 1.3639446\ttotal: 11.7s\tremaining: 22.1s\n",
      "346:\tlearn: 1.3636907\ttotal: 11.7s\tremaining: 22.1s\n",
      "347:\tlearn: 1.3634287\ttotal: 11.8s\tremaining: 22.1s\n",
      "348:\tlearn: 1.3627622\ttotal: 11.8s\tremaining: 22s\n",
      "349:\tlearn: 1.3625628\ttotal: 11.8s\tremaining: 22s\n",
      "350:\tlearn: 1.3621477\ttotal: 11.9s\tremaining: 22s\n",
      "351:\tlearn: 1.3619523\ttotal: 11.9s\tremaining: 21.9s\n",
      "352:\tlearn: 1.3610083\ttotal: 11.9s\tremaining: 21.9s\n",
      "353:\tlearn: 1.3607869\ttotal: 12s\tremaining: 21.8s\n",
      "354:\tlearn: 1.3599543\ttotal: 12s\tremaining: 21.8s\n",
      "355:\tlearn: 1.3596192\ttotal: 12s\tremaining: 21.8s\n",
      "356:\tlearn: 1.3591506\ttotal: 12.1s\tremaining: 21.7s\n",
      "357:\tlearn: 1.3587905\ttotal: 12.1s\tremaining: 21.7s\n",
      "358:\tlearn: 1.3585172\ttotal: 12.1s\tremaining: 21.7s\n",
      "359:\tlearn: 1.3582805\ttotal: 12.2s\tremaining: 21.6s\n",
      "360:\tlearn: 1.3576940\ttotal: 12.2s\tremaining: 21.6s\n",
      "361:\tlearn: 1.3569457\ttotal: 12.2s\tremaining: 21.6s\n",
      "362:\tlearn: 1.3560143\ttotal: 12.3s\tremaining: 21.5s\n",
      "363:\tlearn: 1.3554993\ttotal: 12.3s\tremaining: 21.5s\n",
      "364:\tlearn: 1.3548691\ttotal: 12.3s\tremaining: 21.5s\n",
      "365:\tlearn: 1.3547055\ttotal: 12.4s\tremaining: 21.4s\n",
      "366:\tlearn: 1.3543460\ttotal: 12.4s\tremaining: 21.4s\n",
      "367:\tlearn: 1.3539607\ttotal: 12.4s\tremaining: 21.4s\n",
      "368:\tlearn: 1.3536695\ttotal: 12.5s\tremaining: 21.3s\n",
      "369:\tlearn: 1.3529029\ttotal: 12.5s\tremaining: 21.3s\n",
      "370:\tlearn: 1.3524845\ttotal: 12.5s\tremaining: 21.3s\n",
      "371:\tlearn: 1.3518167\ttotal: 12.6s\tremaining: 21.2s\n",
      "372:\tlearn: 1.3511279\ttotal: 12.6s\tremaining: 21.2s\n",
      "373:\tlearn: 1.3507689\ttotal: 12.7s\tremaining: 21.2s\n",
      "374:\tlearn: 1.3505516\ttotal: 12.7s\tremaining: 21.1s\n",
      "375:\tlearn: 1.3501181\ttotal: 12.7s\tremaining: 21.1s\n",
      "376:\tlearn: 1.3495203\ttotal: 12.8s\tremaining: 21.1s\n",
      "377:\tlearn: 1.3491819\ttotal: 12.8s\tremaining: 21.1s\n",
      "378:\tlearn: 1.3485311\ttotal: 12.9s\tremaining: 21.1s\n",
      "379:\tlearn: 1.3479238\ttotal: 12.9s\tremaining: 21s\n",
      "380:\tlearn: 1.3474806\ttotal: 12.9s\tremaining: 21s\n",
      "381:\tlearn: 1.3468704\ttotal: 13s\tremaining: 21s\n",
      "382:\tlearn: 1.3465381\ttotal: 13s\tremaining: 20.9s\n",
      "383:\tlearn: 1.3462555\ttotal: 13s\tremaining: 20.9s\n",
      "384:\tlearn: 1.3457604\ttotal: 13.1s\tremaining: 20.9s\n",
      "385:\tlearn: 1.3450107\ttotal: 13.1s\tremaining: 20.8s\n",
      "386:\tlearn: 1.3447956\ttotal: 13.1s\tremaining: 20.8s\n",
      "387:\tlearn: 1.3445819\ttotal: 13.2s\tremaining: 20.8s\n",
      "388:\tlearn: 1.3443431\ttotal: 13.2s\tremaining: 20.8s\n",
      "389:\tlearn: 1.3441575\ttotal: 13.3s\tremaining: 20.7s\n",
      "390:\tlearn: 1.3435897\ttotal: 13.3s\tremaining: 20.7s\n",
      "391:\tlearn: 1.3431065\ttotal: 13.3s\tremaining: 20.7s\n",
      "392:\tlearn: 1.3423659\ttotal: 13.4s\tremaining: 20.7s\n",
      "393:\tlearn: 1.3421172\ttotal: 13.4s\tremaining: 20.6s\n",
      "394:\tlearn: 1.3420389\ttotal: 13.5s\tremaining: 20.6s\n",
      "395:\tlearn: 1.3413176\ttotal: 13.5s\tremaining: 20.6s\n",
      "396:\tlearn: 1.3411046\ttotal: 13.5s\tremaining: 20.6s\n",
      "397:\tlearn: 1.3406066\ttotal: 13.6s\tremaining: 20.5s\n",
      "398:\tlearn: 1.3400825\ttotal: 13.6s\tremaining: 20.5s\n",
      "399:\tlearn: 1.3395069\ttotal: 13.7s\tremaining: 20.5s\n",
      "400:\tlearn: 1.3392717\ttotal: 13.7s\tremaining: 20.5s\n",
      "401:\tlearn: 1.3388932\ttotal: 13.7s\tremaining: 20.4s\n",
      "402:\tlearn: 1.3384743\ttotal: 13.8s\tremaining: 20.4s\n",
      "403:\tlearn: 1.3379594\ttotal: 13.8s\tremaining: 20.4s\n",
      "404:\tlearn: 1.3377796\ttotal: 13.8s\tremaining: 20.3s\n",
      "405:\tlearn: 1.3373281\ttotal: 13.9s\tremaining: 20.3s\n",
      "406:\tlearn: 1.3367531\ttotal: 13.9s\tremaining: 20.3s\n",
      "407:\tlearn: 1.3363065\ttotal: 14s\tremaining: 20.3s\n",
      "408:\tlearn: 1.3355858\ttotal: 14s\tremaining: 20.2s\n",
      "409:\tlearn: 1.3353659\ttotal: 14s\tremaining: 20.2s\n",
      "410:\tlearn: 1.3346754\ttotal: 14.1s\tremaining: 20.2s\n",
      "411:\tlearn: 1.3345235\ttotal: 14.1s\tremaining: 20.1s\n",
      "412:\tlearn: 1.3342375\ttotal: 14.1s\tremaining: 20.1s\n",
      "413:\tlearn: 1.3336083\ttotal: 14.2s\tremaining: 20.1s\n",
      "414:\tlearn: 1.3334130\ttotal: 14.2s\tremaining: 20s\n",
      "415:\tlearn: 1.3332438\ttotal: 14.3s\tremaining: 20s\n",
      "416:\tlearn: 1.3324518\ttotal: 14.3s\tremaining: 20s\n",
      "417:\tlearn: 1.3319652\ttotal: 14.3s\tremaining: 20s\n",
      "418:\tlearn: 1.3315849\ttotal: 14.4s\tremaining: 19.9s\n",
      "419:\tlearn: 1.3314118\ttotal: 14.4s\tremaining: 19.9s\n",
      "420:\tlearn: 1.3311245\ttotal: 14.4s\tremaining: 19.9s\n",
      "421:\tlearn: 1.3310101\ttotal: 14.5s\tremaining: 19.8s\n",
      "422:\tlearn: 1.3304492\ttotal: 14.5s\tremaining: 19.8s\n",
      "423:\tlearn: 1.3300528\ttotal: 14.6s\tremaining: 19.8s\n",
      "424:\tlearn: 1.3299319\ttotal: 14.6s\tremaining: 19.7s\n",
      "425:\tlearn: 1.3294665\ttotal: 14.6s\tremaining: 19.7s\n",
      "426:\tlearn: 1.3292258\ttotal: 14.7s\tremaining: 19.7s\n",
      "427:\tlearn: 1.3287291\ttotal: 14.7s\tremaining: 19.6s\n",
      "428:\tlearn: 1.3282765\ttotal: 14.7s\tremaining: 19.6s\n",
      "429:\tlearn: 1.3277785\ttotal: 14.8s\tremaining: 19.6s\n",
      "430:\tlearn: 1.3275551\ttotal: 14.8s\tremaining: 19.5s\n",
      "431:\tlearn: 1.3273944\ttotal: 14.8s\tremaining: 19.5s\n",
      "432:\tlearn: 1.3267717\ttotal: 14.9s\tremaining: 19.5s\n",
      "433:\tlearn: 1.3262978\ttotal: 14.9s\tremaining: 19.4s\n",
      "434:\tlearn: 1.3261174\ttotal: 14.9s\tremaining: 19.4s\n",
      "435:\tlearn: 1.3259344\ttotal: 15s\tremaining: 19.4s\n",
      "436:\tlearn: 1.3252892\ttotal: 15s\tremaining: 19.3s\n",
      "437:\tlearn: 1.3248719\ttotal: 15s\tremaining: 19.3s\n",
      "438:\tlearn: 1.3246556\ttotal: 15.1s\tremaining: 19.3s\n",
      "439:\tlearn: 1.3241400\ttotal: 15.1s\tremaining: 19.2s\n",
      "440:\tlearn: 1.3238608\ttotal: 15.1s\tremaining: 19.2s\n",
      "441:\tlearn: 1.3236740\ttotal: 15.2s\tremaining: 19.2s\n",
      "442:\tlearn: 1.3233108\ttotal: 15.2s\tremaining: 19.1s\n",
      "443:\tlearn: 1.3231091\ttotal: 15.2s\tremaining: 19.1s\n",
      "444:\tlearn: 1.3229939\ttotal: 15.3s\tremaining: 19.1s\n",
      "445:\tlearn: 1.3224879\ttotal: 15.3s\tremaining: 19s\n",
      "446:\tlearn: 1.3221799\ttotal: 15.3s\tremaining: 19s\n",
      "447:\tlearn: 1.3214700\ttotal: 15.4s\tremaining: 18.9s\n",
      "448:\tlearn: 1.3208292\ttotal: 15.4s\tremaining: 18.9s\n",
      "449:\tlearn: 1.3204055\ttotal: 15.4s\tremaining: 18.9s\n",
      "450:\tlearn: 1.3198965\ttotal: 15.5s\tremaining: 18.8s\n",
      "451:\tlearn: 1.3196193\ttotal: 15.5s\tremaining: 18.8s\n",
      "452:\tlearn: 1.3194222\ttotal: 15.5s\tremaining: 18.8s\n",
      "453:\tlearn: 1.3189005\ttotal: 15.6s\tremaining: 18.7s\n",
      "454:\tlearn: 1.3184522\ttotal: 15.6s\tremaining: 18.7s\n",
      "455:\tlearn: 1.3180203\ttotal: 15.6s\tremaining: 18.7s\n",
      "456:\tlearn: 1.3175212\ttotal: 15.7s\tremaining: 18.6s\n",
      "457:\tlearn: 1.3173416\ttotal: 15.7s\tremaining: 18.6s\n",
      "458:\tlearn: 1.3171303\ttotal: 15.7s\tremaining: 18.6s\n",
      "459:\tlearn: 1.3164074\ttotal: 15.8s\tremaining: 18.5s\n",
      "460:\tlearn: 1.3158607\ttotal: 15.8s\tremaining: 18.5s\n",
      "461:\tlearn: 1.3153726\ttotal: 15.8s\tremaining: 18.5s\n",
      "462:\tlearn: 1.3151045\ttotal: 15.9s\tremaining: 18.4s\n",
      "463:\tlearn: 1.3148081\ttotal: 15.9s\tremaining: 18.4s\n",
      "464:\tlearn: 1.3143720\ttotal: 15.9s\tremaining: 18.3s\n",
      "465:\tlearn: 1.3142308\ttotal: 16s\tremaining: 18.3s\n",
      "466:\tlearn: 1.3139656\ttotal: 16s\tremaining: 18.3s\n",
      "467:\tlearn: 1.3137952\ttotal: 16s\tremaining: 18.2s\n",
      "468:\tlearn: 1.3134246\ttotal: 16.1s\tremaining: 18.2s\n",
      "469:\tlearn: 1.3129803\ttotal: 16.1s\tremaining: 18.2s\n",
      "470:\tlearn: 1.3128524\ttotal: 16.1s\tremaining: 18.1s\n",
      "471:\tlearn: 1.3124455\ttotal: 16.2s\tremaining: 18.1s\n",
      "472:\tlearn: 1.3117270\ttotal: 16.2s\tremaining: 18.1s\n",
      "473:\tlearn: 1.3115075\ttotal: 16.2s\tremaining: 18s\n",
      "474:\tlearn: 1.3112294\ttotal: 16.3s\tremaining: 18s\n",
      "475:\tlearn: 1.3107531\ttotal: 16.3s\tremaining: 18s\n",
      "476:\tlearn: 1.3104369\ttotal: 16.3s\tremaining: 17.9s\n",
      "477:\tlearn: 1.3100805\ttotal: 16.4s\tremaining: 17.9s\n",
      "478:\tlearn: 1.3095486\ttotal: 16.4s\tremaining: 17.8s\n",
      "479:\tlearn: 1.3093358\ttotal: 16.4s\tremaining: 17.8s\n",
      "480:\tlearn: 1.3091368\ttotal: 16.5s\tremaining: 17.8s\n",
      "481:\tlearn: 1.3089383\ttotal: 16.5s\tremaining: 17.7s\n",
      "482:\tlearn: 1.3082811\ttotal: 16.5s\tremaining: 17.7s\n",
      "483:\tlearn: 1.3081690\ttotal: 16.6s\tremaining: 17.7s\n",
      "484:\tlearn: 1.3078630\ttotal: 16.6s\tremaining: 17.6s\n",
      "485:\tlearn: 1.3073614\ttotal: 16.6s\tremaining: 17.6s\n",
      "486:\tlearn: 1.3068483\ttotal: 16.7s\tremaining: 17.6s\n",
      "487:\tlearn: 1.3066571\ttotal: 16.7s\tremaining: 17.5s\n",
      "488:\tlearn: 1.3063518\ttotal: 16.7s\tremaining: 17.5s\n",
      "489:\tlearn: 1.3060706\ttotal: 16.8s\tremaining: 17.5s\n",
      "490:\tlearn: 1.3055344\ttotal: 16.8s\tremaining: 17.4s\n",
      "491:\tlearn: 1.3051137\ttotal: 16.8s\tremaining: 17.4s\n",
      "492:\tlearn: 1.3049548\ttotal: 16.9s\tremaining: 17.4s\n",
      "493:\tlearn: 1.3046252\ttotal: 16.9s\tremaining: 17.3s\n",
      "494:\tlearn: 1.3044919\ttotal: 16.9s\tremaining: 17.3s\n",
      "495:\tlearn: 1.3042420\ttotal: 17s\tremaining: 17.2s\n",
      "496:\tlearn: 1.3038508\ttotal: 17s\tremaining: 17.2s\n",
      "497:\tlearn: 1.3035472\ttotal: 17s\tremaining: 17.2s\n",
      "498:\tlearn: 1.3031135\ttotal: 17.1s\tremaining: 17.1s\n",
      "499:\tlearn: 1.3030084\ttotal: 17.1s\tremaining: 17.1s\n",
      "500:\tlearn: 1.3028532\ttotal: 17.1s\tremaining: 17.1s\n",
      "501:\tlearn: 1.3025633\ttotal: 17.2s\tremaining: 17s\n",
      "502:\tlearn: 1.3020838\ttotal: 17.2s\tremaining: 17s\n",
      "503:\tlearn: 1.3019017\ttotal: 17.3s\tremaining: 17s\n",
      "504:\tlearn: 1.3017728\ttotal: 17.3s\tremaining: 16.9s\n",
      "505:\tlearn: 1.3013086\ttotal: 17.3s\tremaining: 16.9s\n",
      "506:\tlearn: 1.3007717\ttotal: 17.4s\tremaining: 16.9s\n",
      "507:\tlearn: 1.3003245\ttotal: 17.4s\tremaining: 16.8s\n",
      "508:\tlearn: 1.3001214\ttotal: 17.4s\tremaining: 16.8s\n",
      "509:\tlearn: 1.2996246\ttotal: 17.5s\tremaining: 16.8s\n",
      "510:\tlearn: 1.2993205\ttotal: 17.5s\tremaining: 16.7s\n",
      "511:\tlearn: 1.2986896\ttotal: 17.5s\tremaining: 16.7s\n",
      "512:\tlearn: 1.2985156\ttotal: 17.6s\tremaining: 16.7s\n",
      "513:\tlearn: 1.2979362\ttotal: 17.6s\tremaining: 16.6s\n",
      "514:\tlearn: 1.2976440\ttotal: 17.6s\tremaining: 16.6s\n",
      "515:\tlearn: 1.2970922\ttotal: 17.7s\tremaining: 16.6s\n",
      "516:\tlearn: 1.2966034\ttotal: 17.7s\tremaining: 16.5s\n",
      "517:\tlearn: 1.2964741\ttotal: 17.7s\tremaining: 16.5s\n",
      "518:\tlearn: 1.2962823\ttotal: 17.8s\tremaining: 16.5s\n",
      "519:\tlearn: 1.2959534\ttotal: 17.8s\tremaining: 16.4s\n",
      "520:\tlearn: 1.2956491\ttotal: 17.8s\tremaining: 16.4s\n",
      "521:\tlearn: 1.2954956\ttotal: 17.9s\tremaining: 16.4s\n",
      "522:\tlearn: 1.2950333\ttotal: 17.9s\tremaining: 16.3s\n",
      "523:\tlearn: 1.2948273\ttotal: 17.9s\tremaining: 16.3s\n",
      "524:\tlearn: 1.2944238\ttotal: 18s\tremaining: 16.2s\n",
      "525:\tlearn: 1.2942659\ttotal: 18s\tremaining: 16.2s\n",
      "526:\tlearn: 1.2939248\ttotal: 18s\tremaining: 16.2s\n",
      "527:\tlearn: 1.2935946\ttotal: 18.1s\tremaining: 16.1s\n",
      "528:\tlearn: 1.2934116\ttotal: 18.1s\tremaining: 16.1s\n",
      "529:\tlearn: 1.2932565\ttotal: 18.1s\tremaining: 16.1s\n",
      "530:\tlearn: 1.2927298\ttotal: 18.1s\tremaining: 16s\n",
      "531:\tlearn: 1.2921776\ttotal: 18.2s\tremaining: 16s\n",
      "532:\tlearn: 1.2919061\ttotal: 18.2s\tremaining: 16s\n",
      "533:\tlearn: 1.2915927\ttotal: 18.3s\tremaining: 15.9s\n",
      "534:\tlearn: 1.2913927\ttotal: 18.3s\tremaining: 15.9s\n",
      "535:\tlearn: 1.2912753\ttotal: 18.3s\tremaining: 15.9s\n",
      "536:\tlearn: 1.2911260\ttotal: 18.3s\tremaining: 15.8s\n",
      "537:\tlearn: 1.2910066\ttotal: 18.4s\tremaining: 15.8s\n",
      "538:\tlearn: 1.2906680\ttotal: 18.4s\tremaining: 15.8s\n",
      "539:\tlearn: 1.2899993\ttotal: 18.4s\tremaining: 15.7s\n",
      "540:\tlearn: 1.2895753\ttotal: 18.5s\tremaining: 15.7s\n",
      "541:\tlearn: 1.2891279\ttotal: 18.5s\tremaining: 15.6s\n",
      "542:\tlearn: 1.2885092\ttotal: 18.5s\tremaining: 15.6s\n",
      "543:\tlearn: 1.2881520\ttotal: 18.6s\tremaining: 15.6s\n",
      "544:\tlearn: 1.2879621\ttotal: 18.6s\tremaining: 15.5s\n",
      "545:\tlearn: 1.2874728\ttotal: 18.6s\tremaining: 15.5s\n",
      "546:\tlearn: 1.2869434\ttotal: 18.7s\tremaining: 15.5s\n",
      "547:\tlearn: 1.2864680\ttotal: 18.7s\tremaining: 15.4s\n",
      "548:\tlearn: 1.2861296\ttotal: 18.7s\tremaining: 15.4s\n",
      "549:\tlearn: 1.2857849\ttotal: 18.8s\tremaining: 15.4s\n",
      "550:\tlearn: 1.2855507\ttotal: 18.8s\tremaining: 15.3s\n",
      "551:\tlearn: 1.2854219\ttotal: 18.8s\tremaining: 15.3s\n",
      "552:\tlearn: 1.2852799\ttotal: 18.9s\tremaining: 15.3s\n",
      "553:\tlearn: 1.2849975\ttotal: 18.9s\tremaining: 15.2s\n",
      "554:\tlearn: 1.2847230\ttotal: 18.9s\tremaining: 15.2s\n",
      "555:\tlearn: 1.2843487\ttotal: 19s\tremaining: 15.1s\n",
      "556:\tlearn: 1.2841665\ttotal: 19s\tremaining: 15.1s\n",
      "557:\tlearn: 1.2835866\ttotal: 19s\tremaining: 15.1s\n",
      "558:\tlearn: 1.2834053\ttotal: 19.1s\tremaining: 15s\n",
      "559:\tlearn: 1.2832651\ttotal: 19.1s\tremaining: 15s\n",
      "560:\tlearn: 1.2829669\ttotal: 19.1s\tremaining: 15s\n",
      "561:\tlearn: 1.2824211\ttotal: 19.2s\tremaining: 14.9s\n",
      "562:\tlearn: 1.2820265\ttotal: 19.2s\tremaining: 14.9s\n",
      "563:\tlearn: 1.2818137\ttotal: 19.2s\tremaining: 14.9s\n",
      "564:\tlearn: 1.2814392\ttotal: 19.3s\tremaining: 14.8s\n",
      "565:\tlearn: 1.2810127\ttotal: 19.3s\tremaining: 14.8s\n",
      "566:\tlearn: 1.2805347\ttotal: 19.3s\tremaining: 14.8s\n",
      "567:\tlearn: 1.2801507\ttotal: 19.4s\tremaining: 14.7s\n",
      "568:\tlearn: 1.2795703\ttotal: 19.4s\tremaining: 14.7s\n",
      "569:\tlearn: 1.2791975\ttotal: 19.4s\tremaining: 14.7s\n",
      "570:\tlearn: 1.2790393\ttotal: 19.5s\tremaining: 14.6s\n",
      "571:\tlearn: 1.2785625\ttotal: 19.5s\tremaining: 14.6s\n",
      "572:\tlearn: 1.2784410\ttotal: 19.5s\tremaining: 14.6s\n",
      "573:\tlearn: 1.2782712\ttotal: 19.6s\tremaining: 14.5s\n",
      "574:\tlearn: 1.2779713\ttotal: 19.6s\tremaining: 14.5s\n",
      "575:\tlearn: 1.2777174\ttotal: 19.6s\tremaining: 14.4s\n",
      "576:\tlearn: 1.2774025\ttotal: 19.7s\tremaining: 14.4s\n",
      "577:\tlearn: 1.2772942\ttotal: 19.7s\tremaining: 14.4s\n",
      "578:\tlearn: 1.2768866\ttotal: 19.7s\tremaining: 14.3s\n",
      "579:\tlearn: 1.2764708\ttotal: 19.8s\tremaining: 14.3s\n",
      "580:\tlearn: 1.2762624\ttotal: 19.8s\tremaining: 14.3s\n",
      "581:\tlearn: 1.2756851\ttotal: 19.8s\tremaining: 14.2s\n",
      "582:\tlearn: 1.2755313\ttotal: 19.9s\tremaining: 14.2s\n",
      "583:\tlearn: 1.2750375\ttotal: 19.9s\tremaining: 14.2s\n",
      "584:\tlearn: 1.2748730\ttotal: 19.9s\tremaining: 14.1s\n",
      "585:\tlearn: 1.2745464\ttotal: 20s\tremaining: 14.1s\n",
      "586:\tlearn: 1.2743607\ttotal: 20s\tremaining: 14.1s\n",
      "587:\tlearn: 1.2740865\ttotal: 20s\tremaining: 14s\n",
      "588:\tlearn: 1.2736727\ttotal: 20.1s\tremaining: 14s\n",
      "589:\tlearn: 1.2731691\ttotal: 20.1s\tremaining: 14s\n",
      "590:\tlearn: 1.2727230\ttotal: 20.1s\tremaining: 13.9s\n",
      "591:\tlearn: 1.2721344\ttotal: 20.2s\tremaining: 13.9s\n",
      "592:\tlearn: 1.2716461\ttotal: 20.2s\tremaining: 13.9s\n",
      "593:\tlearn: 1.2710981\ttotal: 20.2s\tremaining: 13.8s\n",
      "594:\tlearn: 1.2709327\ttotal: 20.3s\tremaining: 13.8s\n",
      "595:\tlearn: 1.2705561\ttotal: 20.3s\tremaining: 13.8s\n",
      "596:\tlearn: 1.2703884\ttotal: 20.3s\tremaining: 13.7s\n",
      "597:\tlearn: 1.2702573\ttotal: 20.4s\tremaining: 13.7s\n",
      "598:\tlearn: 1.2699660\ttotal: 20.4s\tremaining: 13.7s\n",
      "599:\tlearn: 1.2697946\ttotal: 20.4s\tremaining: 13.6s\n",
      "600:\tlearn: 1.2696488\ttotal: 20.5s\tremaining: 13.6s\n",
      "601:\tlearn: 1.2691999\ttotal: 20.5s\tremaining: 13.6s\n",
      "602:\tlearn: 1.2688018\ttotal: 20.5s\tremaining: 13.5s\n",
      "603:\tlearn: 1.2685789\ttotal: 20.6s\tremaining: 13.5s\n",
      "604:\tlearn: 1.2682101\ttotal: 20.6s\tremaining: 13.5s\n",
      "605:\tlearn: 1.2678716\ttotal: 20.6s\tremaining: 13.4s\n",
      "606:\tlearn: 1.2674202\ttotal: 20.7s\tremaining: 13.4s\n",
      "607:\tlearn: 1.2672815\ttotal: 20.7s\tremaining: 13.3s\n",
      "608:\tlearn: 1.2669890\ttotal: 20.7s\tremaining: 13.3s\n",
      "609:\tlearn: 1.2668571\ttotal: 20.8s\tremaining: 13.3s\n",
      "610:\tlearn: 1.2663630\ttotal: 20.8s\tremaining: 13.2s\n",
      "611:\tlearn: 1.2660497\ttotal: 20.8s\tremaining: 13.2s\n",
      "612:\tlearn: 1.2659505\ttotal: 20.9s\tremaining: 13.2s\n",
      "613:\tlearn: 1.2654714\ttotal: 20.9s\tremaining: 13.1s\n",
      "614:\tlearn: 1.2652880\ttotal: 20.9s\tremaining: 13.1s\n",
      "615:\tlearn: 1.2648956\ttotal: 21s\tremaining: 13.1s\n",
      "616:\tlearn: 1.2646111\ttotal: 21s\tremaining: 13s\n",
      "617:\tlearn: 1.2644651\ttotal: 21s\tremaining: 13s\n",
      "618:\tlearn: 1.2642457\ttotal: 21.1s\tremaining: 13s\n",
      "619:\tlearn: 1.2640810\ttotal: 21.1s\tremaining: 12.9s\n",
      "620:\tlearn: 1.2634417\ttotal: 21.1s\tremaining: 12.9s\n",
      "621:\tlearn: 1.2632793\ttotal: 21.2s\tremaining: 12.9s\n",
      "622:\tlearn: 1.2630407\ttotal: 21.2s\tremaining: 12.8s\n",
      "623:\tlearn: 1.2624302\ttotal: 21.2s\tremaining: 12.8s\n",
      "624:\tlearn: 1.2621633\ttotal: 21.3s\tremaining: 12.8s\n",
      "625:\tlearn: 1.2616526\ttotal: 21.3s\tremaining: 12.7s\n",
      "626:\tlearn: 1.2614606\ttotal: 21.3s\tremaining: 12.7s\n",
      "627:\tlearn: 1.2611607\ttotal: 21.4s\tremaining: 12.7s\n",
      "628:\tlearn: 1.2607951\ttotal: 21.4s\tremaining: 12.6s\n",
      "629:\tlearn: 1.2604926\ttotal: 21.4s\tremaining: 12.6s\n",
      "630:\tlearn: 1.2603624\ttotal: 21.5s\tremaining: 12.6s\n",
      "631:\tlearn: 1.2599184\ttotal: 21.5s\tremaining: 12.5s\n",
      "632:\tlearn: 1.2597718\ttotal: 21.5s\tremaining: 12.5s\n",
      "633:\tlearn: 1.2593004\ttotal: 21.6s\tremaining: 12.5s\n",
      "634:\tlearn: 1.2589192\ttotal: 21.6s\tremaining: 12.4s\n",
      "635:\tlearn: 1.2585202\ttotal: 21.6s\tremaining: 12.4s\n",
      "636:\tlearn: 1.2582183\ttotal: 21.7s\tremaining: 12.4s\n",
      "637:\tlearn: 1.2579138\ttotal: 21.7s\tremaining: 12.3s\n",
      "638:\tlearn: 1.2576080\ttotal: 21.7s\tremaining: 12.3s\n",
      "639:\tlearn: 1.2572850\ttotal: 21.8s\tremaining: 12.2s\n",
      "640:\tlearn: 1.2569217\ttotal: 21.8s\tremaining: 12.2s\n",
      "641:\tlearn: 1.2565323\ttotal: 21.8s\tremaining: 12.2s\n",
      "642:\tlearn: 1.2559372\ttotal: 21.9s\tremaining: 12.1s\n",
      "643:\tlearn: 1.2557250\ttotal: 21.9s\tremaining: 12.1s\n",
      "644:\tlearn: 1.2553874\ttotal: 21.9s\tremaining: 12.1s\n",
      "645:\tlearn: 1.2550261\ttotal: 22s\tremaining: 12s\n",
      "646:\tlearn: 1.2545138\ttotal: 22s\tremaining: 12s\n",
      "647:\tlearn: 1.2540195\ttotal: 22s\tremaining: 12s\n",
      "648:\tlearn: 1.2536103\ttotal: 22.1s\tremaining: 11.9s\n",
      "649:\tlearn: 1.2531682\ttotal: 22.1s\tremaining: 11.9s\n",
      "650:\tlearn: 1.2527829\ttotal: 22.1s\tremaining: 11.9s\n",
      "651:\tlearn: 1.2523654\ttotal: 22.2s\tremaining: 11.8s\n",
      "652:\tlearn: 1.2519676\ttotal: 22.2s\tremaining: 11.8s\n",
      "653:\tlearn: 1.2516565\ttotal: 22.2s\tremaining: 11.8s\n",
      "654:\tlearn: 1.2513692\ttotal: 22.3s\tremaining: 11.7s\n",
      "655:\tlearn: 1.2511978\ttotal: 22.3s\tremaining: 11.7s\n",
      "656:\tlearn: 1.2507006\ttotal: 22.3s\tremaining: 11.7s\n",
      "657:\tlearn: 1.2505757\ttotal: 22.4s\tremaining: 11.6s\n",
      "658:\tlearn: 1.2501990\ttotal: 22.4s\tremaining: 11.6s\n",
      "659:\tlearn: 1.2500439\ttotal: 22.4s\tremaining: 11.6s\n",
      "660:\tlearn: 1.2497549\ttotal: 22.5s\tremaining: 11.5s\n",
      "661:\tlearn: 1.2495337\ttotal: 22.5s\tremaining: 11.5s\n",
      "662:\tlearn: 1.2493254\ttotal: 22.5s\tremaining: 11.5s\n",
      "663:\tlearn: 1.2491612\ttotal: 22.6s\tremaining: 11.4s\n",
      "664:\tlearn: 1.2489007\ttotal: 22.6s\tremaining: 11.4s\n",
      "665:\tlearn: 1.2486792\ttotal: 22.7s\tremaining: 11.4s\n",
      "666:\tlearn: 1.2483147\ttotal: 22.7s\tremaining: 11.3s\n",
      "667:\tlearn: 1.2481935\ttotal: 22.7s\tremaining: 11.3s\n",
      "668:\tlearn: 1.2481200\ttotal: 22.8s\tremaining: 11.3s\n",
      "669:\tlearn: 1.2479705\ttotal: 22.8s\tremaining: 11.2s\n",
      "670:\tlearn: 1.2476971\ttotal: 22.8s\tremaining: 11.2s\n",
      "671:\tlearn: 1.2473292\ttotal: 22.9s\tremaining: 11.2s\n",
      "672:\tlearn: 1.2472323\ttotal: 22.9s\tremaining: 11.1s\n",
      "673:\tlearn: 1.2468473\ttotal: 22.9s\tremaining: 11.1s\n",
      "674:\tlearn: 1.2465854\ttotal: 23s\tremaining: 11.1s\n",
      "675:\tlearn: 1.2463641\ttotal: 23s\tremaining: 11s\n",
      "676:\tlearn: 1.2461367\ttotal: 23s\tremaining: 11s\n",
      "677:\tlearn: 1.2458417\ttotal: 23.1s\tremaining: 11s\n",
      "678:\tlearn: 1.2455192\ttotal: 23.1s\tremaining: 10.9s\n",
      "679:\tlearn: 1.2452645\ttotal: 23.1s\tremaining: 10.9s\n",
      "680:\tlearn: 1.2449555\ttotal: 23.2s\tremaining: 10.9s\n",
      "681:\tlearn: 1.2446148\ttotal: 23.2s\tremaining: 10.8s\n",
      "682:\tlearn: 1.2444191\ttotal: 23.2s\tremaining: 10.8s\n",
      "683:\tlearn: 1.2441016\ttotal: 23.3s\tremaining: 10.8s\n",
      "684:\tlearn: 1.2438998\ttotal: 23.3s\tremaining: 10.7s\n",
      "685:\tlearn: 1.2436168\ttotal: 23.3s\tremaining: 10.7s\n",
      "686:\tlearn: 1.2433151\ttotal: 23.4s\tremaining: 10.6s\n",
      "687:\tlearn: 1.2430230\ttotal: 23.4s\tremaining: 10.6s\n",
      "688:\tlearn: 1.2425310\ttotal: 23.4s\tremaining: 10.6s\n",
      "689:\tlearn: 1.2423229\ttotal: 23.5s\tremaining: 10.5s\n",
      "690:\tlearn: 1.2419429\ttotal: 23.5s\tremaining: 10.5s\n",
      "691:\tlearn: 1.2418130\ttotal: 23.5s\tremaining: 10.5s\n",
      "692:\tlearn: 1.2417339\ttotal: 23.6s\tremaining: 10.4s\n",
      "693:\tlearn: 1.2413963\ttotal: 23.6s\tremaining: 10.4s\n",
      "694:\tlearn: 1.2412390\ttotal: 23.6s\tremaining: 10.4s\n",
      "695:\tlearn: 1.2409461\ttotal: 23.7s\tremaining: 10.3s\n",
      "696:\tlearn: 1.2407338\ttotal: 23.7s\tremaining: 10.3s\n",
      "697:\tlearn: 1.2402922\ttotal: 23.7s\tremaining: 10.3s\n",
      "698:\tlearn: 1.2398390\ttotal: 23.8s\tremaining: 10.2s\n",
      "699:\tlearn: 1.2396127\ttotal: 23.8s\tremaining: 10.2s\n",
      "700:\tlearn: 1.2395073\ttotal: 23.8s\tremaining: 10.2s\n",
      "701:\tlearn: 1.2392263\ttotal: 23.9s\tremaining: 10.1s\n",
      "702:\tlearn: 1.2388602\ttotal: 23.9s\tremaining: 10.1s\n",
      "703:\tlearn: 1.2385798\ttotal: 23.9s\tremaining: 10.1s\n",
      "704:\tlearn: 1.2383764\ttotal: 24s\tremaining: 10s\n",
      "705:\tlearn: 1.2382068\ttotal: 24s\tremaining: 9.99s\n",
      "706:\tlearn: 1.2380568\ttotal: 24s\tremaining: 9.96s\n",
      "707:\tlearn: 1.2379510\ttotal: 24.1s\tremaining: 9.93s\n",
      "708:\tlearn: 1.2377077\ttotal: 24.1s\tremaining: 9.89s\n",
      "709:\tlearn: 1.2375967\ttotal: 24.1s\tremaining: 9.86s\n",
      "710:\tlearn: 1.2373370\ttotal: 24.2s\tremaining: 9.82s\n",
      "711:\tlearn: 1.2369348\ttotal: 24.2s\tremaining: 9.79s\n",
      "712:\tlearn: 1.2365063\ttotal: 24.2s\tremaining: 9.75s\n",
      "713:\tlearn: 1.2361773\ttotal: 24.3s\tremaining: 9.72s\n",
      "714:\tlearn: 1.2359057\ttotal: 24.3s\tremaining: 9.69s\n",
      "715:\tlearn: 1.2354966\ttotal: 24.3s\tremaining: 9.65s\n",
      "716:\tlearn: 1.2351705\ttotal: 24.4s\tremaining: 9.62s\n",
      "717:\tlearn: 1.2348440\ttotal: 24.4s\tremaining: 9.58s\n",
      "718:\tlearn: 1.2346194\ttotal: 24.4s\tremaining: 9.55s\n",
      "719:\tlearn: 1.2345455\ttotal: 24.5s\tremaining: 9.51s\n",
      "720:\tlearn: 1.2344299\ttotal: 24.5s\tremaining: 9.48s\n",
      "721:\tlearn: 1.2343404\ttotal: 24.5s\tremaining: 9.45s\n",
      "722:\tlearn: 1.2342444\ttotal: 24.6s\tremaining: 9.41s\n",
      "723:\tlearn: 1.2337700\ttotal: 24.6s\tremaining: 9.38s\n",
      "724:\tlearn: 1.2335281\ttotal: 24.6s\tremaining: 9.34s\n",
      "725:\tlearn: 1.2333673\ttotal: 24.7s\tremaining: 9.31s\n",
      "726:\tlearn: 1.2331804\ttotal: 24.7s\tremaining: 9.27s\n",
      "727:\tlearn: 1.2329037\ttotal: 24.7s\tremaining: 9.24s\n",
      "728:\tlearn: 1.2327839\ttotal: 24.8s\tremaining: 9.21s\n",
      "729:\tlearn: 1.2326237\ttotal: 24.8s\tremaining: 9.17s\n",
      "730:\tlearn: 1.2323298\ttotal: 24.8s\tremaining: 9.14s\n",
      "731:\tlearn: 1.2319265\ttotal: 24.9s\tremaining: 9.1s\n",
      "732:\tlearn: 1.2315270\ttotal: 24.9s\tremaining: 9.07s\n",
      "733:\tlearn: 1.2312221\ttotal: 24.9s\tremaining: 9.03s\n",
      "734:\tlearn: 1.2310198\ttotal: 25s\tremaining: 9s\n",
      "735:\tlearn: 1.2307967\ttotal: 25s\tremaining: 8.96s\n",
      "736:\tlearn: 1.2304457\ttotal: 25s\tremaining: 8.93s\n",
      "737:\tlearn: 1.2299905\ttotal: 25.1s\tremaining: 8.89s\n",
      "738:\tlearn: 1.2297016\ttotal: 25.1s\tremaining: 8.86s\n",
      "739:\tlearn: 1.2292536\ttotal: 25.1s\tremaining: 8.83s\n",
      "740:\tlearn: 1.2289862\ttotal: 25.2s\tremaining: 8.79s\n",
      "741:\tlearn: 1.2287261\ttotal: 25.2s\tremaining: 8.76s\n",
      "742:\tlearn: 1.2283121\ttotal: 25.2s\tremaining: 8.72s\n",
      "743:\tlearn: 1.2282113\ttotal: 25.3s\tremaining: 8.69s\n",
      "744:\tlearn: 1.2279319\ttotal: 25.3s\tremaining: 8.65s\n",
      "745:\tlearn: 1.2275852\ttotal: 25.3s\tremaining: 8.62s\n",
      "746:\tlearn: 1.2272451\ttotal: 25.4s\tremaining: 8.59s\n",
      "747:\tlearn: 1.2270978\ttotal: 25.4s\tremaining: 8.55s\n",
      "748:\tlearn: 1.2270034\ttotal: 25.4s\tremaining: 8.52s\n",
      "749:\tlearn: 1.2267599\ttotal: 25.5s\tremaining: 8.48s\n",
      "750:\tlearn: 1.2263023\ttotal: 25.5s\tremaining: 8.45s\n",
      "751:\tlearn: 1.2259003\ttotal: 25.5s\tremaining: 8.41s\n",
      "752:\tlearn: 1.2256792\ttotal: 25.6s\tremaining: 8.38s\n",
      "753:\tlearn: 1.2254993\ttotal: 25.6s\tremaining: 8.35s\n",
      "754:\tlearn: 1.2252395\ttotal: 25.6s\tremaining: 8.31s\n",
      "755:\tlearn: 1.2250491\ttotal: 25.6s\tremaining: 8.28s\n",
      "756:\tlearn: 1.2248265\ttotal: 25.7s\tremaining: 8.24s\n",
      "757:\tlearn: 1.2247170\ttotal: 25.7s\tremaining: 8.21s\n",
      "758:\tlearn: 1.2243360\ttotal: 25.7s\tremaining: 8.18s\n",
      "759:\tlearn: 1.2240925\ttotal: 25.8s\tremaining: 8.14s\n",
      "760:\tlearn: 1.2238274\ttotal: 25.8s\tremaining: 8.11s\n",
      "761:\tlearn: 1.2235301\ttotal: 25.9s\tremaining: 8.07s\n",
      "762:\tlearn: 1.2234020\ttotal: 25.9s\tremaining: 8.04s\n",
      "763:\tlearn: 1.2230515\ttotal: 25.9s\tremaining: 8.01s\n",
      "764:\tlearn: 1.2228594\ttotal: 26s\tremaining: 7.97s\n",
      "765:\tlearn: 1.2227369\ttotal: 26s\tremaining: 7.94s\n",
      "766:\tlearn: 1.2226092\ttotal: 26s\tremaining: 7.9s\n",
      "767:\tlearn: 1.2222635\ttotal: 26.1s\tremaining: 7.87s\n",
      "768:\tlearn: 1.2218609\ttotal: 26.1s\tremaining: 7.84s\n",
      "769:\tlearn: 1.2217804\ttotal: 26.1s\tremaining: 7.8s\n",
      "770:\tlearn: 1.2216961\ttotal: 26.2s\tremaining: 7.77s\n",
      "771:\tlearn: 1.2212749\ttotal: 26.2s\tremaining: 7.73s\n",
      "772:\tlearn: 1.2210436\ttotal: 26.2s\tremaining: 7.7s\n",
      "773:\tlearn: 1.2209486\ttotal: 26.3s\tremaining: 7.67s\n",
      "774:\tlearn: 1.2207942\ttotal: 26.3s\tremaining: 7.63s\n",
      "775:\tlearn: 1.2204600\ttotal: 26.3s\tremaining: 7.6s\n",
      "776:\tlearn: 1.2200079\ttotal: 26.4s\tremaining: 7.56s\n",
      "777:\tlearn: 1.2197803\ttotal: 26.4s\tremaining: 7.53s\n",
      "778:\tlearn: 1.2195166\ttotal: 26.4s\tremaining: 7.5s\n",
      "779:\tlearn: 1.2193449\ttotal: 26.5s\tremaining: 7.46s\n",
      "780:\tlearn: 1.2192277\ttotal: 26.5s\tremaining: 7.43s\n",
      "781:\tlearn: 1.2188510\ttotal: 26.5s\tremaining: 7.39s\n",
      "782:\tlearn: 1.2187324\ttotal: 26.6s\tremaining: 7.36s\n",
      "783:\tlearn: 1.2186019\ttotal: 26.6s\tremaining: 7.33s\n",
      "784:\tlearn: 1.2182312\ttotal: 26.6s\tremaining: 7.29s\n",
      "785:\tlearn: 1.2179576\ttotal: 26.7s\tremaining: 7.26s\n",
      "786:\tlearn: 1.2177256\ttotal: 26.7s\tremaining: 7.22s\n",
      "787:\tlearn: 1.2174641\ttotal: 26.7s\tremaining: 7.19s\n",
      "788:\tlearn: 1.2173573\ttotal: 26.8s\tremaining: 7.15s\n",
      "789:\tlearn: 1.2170591\ttotal: 26.8s\tremaining: 7.12s\n",
      "790:\tlearn: 1.2166689\ttotal: 26.8s\tremaining: 7.08s\n",
      "791:\tlearn: 1.2163528\ttotal: 26.9s\tremaining: 7.05s\n",
      "792:\tlearn: 1.2159471\ttotal: 26.9s\tremaining: 7.02s\n",
      "793:\tlearn: 1.2155171\ttotal: 26.9s\tremaining: 6.98s\n",
      "794:\tlearn: 1.2152229\ttotal: 26.9s\tremaining: 6.95s\n",
      "795:\tlearn: 1.2148550\ttotal: 27s\tremaining: 6.92s\n",
      "796:\tlearn: 1.2144977\ttotal: 27s\tremaining: 6.88s\n",
      "797:\tlearn: 1.2141947\ttotal: 27s\tremaining: 6.85s\n",
      "798:\tlearn: 1.2137514\ttotal: 27.1s\tremaining: 6.81s\n",
      "799:\tlearn: 1.2134446\ttotal: 27.1s\tremaining: 6.78s\n",
      "800:\tlearn: 1.2131671\ttotal: 27.2s\tremaining: 6.75s\n",
      "801:\tlearn: 1.2130187\ttotal: 27.2s\tremaining: 6.71s\n",
      "802:\tlearn: 1.2126761\ttotal: 27.2s\tremaining: 6.68s\n",
      "803:\tlearn: 1.2125552\ttotal: 27.3s\tremaining: 6.64s\n",
      "804:\tlearn: 1.2121473\ttotal: 27.3s\tremaining: 6.61s\n",
      "805:\tlearn: 1.2118246\ttotal: 27.3s\tremaining: 6.58s\n",
      "806:\tlearn: 1.2116578\ttotal: 27.4s\tremaining: 6.54s\n",
      "807:\tlearn: 1.2113269\ttotal: 27.4s\tremaining: 6.51s\n",
      "808:\tlearn: 1.2109606\ttotal: 27.4s\tremaining: 6.47s\n",
      "809:\tlearn: 1.2107872\ttotal: 27.5s\tremaining: 6.44s\n",
      "810:\tlearn: 1.2106232\ttotal: 27.5s\tremaining: 6.41s\n",
      "811:\tlearn: 1.2102952\ttotal: 27.5s\tremaining: 6.37s\n",
      "812:\tlearn: 1.2100786\ttotal: 27.6s\tremaining: 6.34s\n",
      "813:\tlearn: 1.2097921\ttotal: 27.6s\tremaining: 6.3s\n",
      "814:\tlearn: 1.2095637\ttotal: 27.6s\tremaining: 6.27s\n",
      "815:\tlearn: 1.2094842\ttotal: 27.7s\tremaining: 6.24s\n",
      "816:\tlearn: 1.2094008\ttotal: 27.7s\tremaining: 6.2s\n",
      "817:\tlearn: 1.2092745\ttotal: 27.7s\tremaining: 6.17s\n",
      "818:\tlearn: 1.2089980\ttotal: 27.8s\tremaining: 6.13s\n",
      "819:\tlearn: 1.2088680\ttotal: 27.8s\tremaining: 6.1s\n",
      "820:\tlearn: 1.2086390\ttotal: 27.8s\tremaining: 6.07s\n",
      "821:\tlearn: 1.2084095\ttotal: 27.9s\tremaining: 6.03s\n",
      "822:\tlearn: 1.2081467\ttotal: 27.9s\tremaining: 6s\n",
      "823:\tlearn: 1.2078747\ttotal: 27.9s\tremaining: 5.96s\n",
      "824:\tlearn: 1.2075683\ttotal: 28s\tremaining: 5.93s\n",
      "825:\tlearn: 1.2072097\ttotal: 28s\tremaining: 5.89s\n",
      "826:\tlearn: 1.2068719\ttotal: 28s\tremaining: 5.86s\n",
      "827:\tlearn: 1.2065853\ttotal: 28.1s\tremaining: 5.83s\n",
      "828:\tlearn: 1.2064210\ttotal: 28.1s\tremaining: 5.79s\n",
      "829:\tlearn: 1.2061054\ttotal: 28.1s\tremaining: 5.76s\n",
      "830:\tlearn: 1.2060183\ttotal: 28.2s\tremaining: 5.72s\n",
      "831:\tlearn: 1.2057140\ttotal: 28.2s\tremaining: 5.69s\n",
      "832:\tlearn: 1.2055971\ttotal: 28.2s\tremaining: 5.66s\n",
      "833:\tlearn: 1.2051812\ttotal: 28.3s\tremaining: 5.62s\n",
      "834:\tlearn: 1.2049290\ttotal: 28.3s\tremaining: 5.59s\n",
      "835:\tlearn: 1.2046068\ttotal: 28.3s\tremaining: 5.56s\n",
      "836:\tlearn: 1.2042117\ttotal: 28.4s\tremaining: 5.52s\n",
      "837:\tlearn: 1.2040267\ttotal: 28.4s\tremaining: 5.49s\n",
      "838:\tlearn: 1.2037665\ttotal: 28.4s\tremaining: 5.45s\n",
      "839:\tlearn: 1.2037103\ttotal: 28.5s\tremaining: 5.42s\n",
      "840:\tlearn: 1.2036177\ttotal: 28.5s\tremaining: 5.39s\n",
      "841:\tlearn: 1.2034390\ttotal: 28.5s\tremaining: 5.35s\n",
      "842:\tlearn: 1.2031409\ttotal: 28.6s\tremaining: 5.32s\n",
      "843:\tlearn: 1.2030349\ttotal: 28.6s\tremaining: 5.28s\n",
      "844:\tlearn: 1.2027522\ttotal: 28.6s\tremaining: 5.25s\n",
      "845:\tlearn: 1.2025800\ttotal: 28.7s\tremaining: 5.22s\n",
      "846:\tlearn: 1.2024197\ttotal: 28.7s\tremaining: 5.18s\n",
      "847:\tlearn: 1.2022667\ttotal: 28.7s\tremaining: 5.15s\n",
      "848:\tlearn: 1.2020859\ttotal: 28.8s\tremaining: 5.11s\n",
      "849:\tlearn: 1.2019514\ttotal: 28.8s\tremaining: 5.08s\n",
      "850:\tlearn: 1.2018491\ttotal: 28.8s\tremaining: 5.05s\n",
      "851:\tlearn: 1.2015109\ttotal: 28.9s\tremaining: 5.01s\n",
      "852:\tlearn: 1.2011898\ttotal: 28.9s\tremaining: 4.98s\n",
      "853:\tlearn: 1.2010780\ttotal: 28.9s\tremaining: 4.95s\n",
      "854:\tlearn: 1.2007535\ttotal: 29s\tremaining: 4.91s\n",
      "855:\tlearn: 1.2006772\ttotal: 29s\tremaining: 4.88s\n",
      "856:\tlearn: 1.2003806\ttotal: 29s\tremaining: 4.84s\n",
      "857:\tlearn: 1.2001744\ttotal: 29.1s\tremaining: 4.81s\n",
      "858:\tlearn: 1.1999660\ttotal: 29.1s\tremaining: 4.78s\n",
      "859:\tlearn: 1.1997245\ttotal: 29.1s\tremaining: 4.74s\n",
      "860:\tlearn: 1.1993119\ttotal: 29.2s\tremaining: 4.71s\n",
      "861:\tlearn: 1.1988601\ttotal: 29.2s\tremaining: 4.67s\n",
      "862:\tlearn: 1.1984739\ttotal: 29.2s\tremaining: 4.64s\n",
      "863:\tlearn: 1.1981762\ttotal: 29.3s\tremaining: 4.61s\n",
      "864:\tlearn: 1.1977605\ttotal: 29.3s\tremaining: 4.57s\n",
      "865:\tlearn: 1.1976610\ttotal: 29.3s\tremaining: 4.54s\n",
      "866:\tlearn: 1.1974552\ttotal: 29.4s\tremaining: 4.5s\n",
      "867:\tlearn: 1.1972070\ttotal: 29.4s\tremaining: 4.47s\n",
      "868:\tlearn: 1.1970463\ttotal: 29.4s\tremaining: 4.43s\n",
      "869:\tlearn: 1.1968943\ttotal: 29.5s\tremaining: 4.4s\n",
      "870:\tlearn: 1.1966731\ttotal: 29.5s\tremaining: 4.37s\n",
      "871:\tlearn: 1.1964388\ttotal: 29.5s\tremaining: 4.33s\n",
      "872:\tlearn: 1.1961581\ttotal: 29.6s\tremaining: 4.3s\n",
      "873:\tlearn: 1.1960659\ttotal: 29.6s\tremaining: 4.27s\n",
      "874:\tlearn: 1.1958007\ttotal: 29.6s\tremaining: 4.23s\n",
      "875:\tlearn: 1.1956360\ttotal: 29.7s\tremaining: 4.2s\n",
      "876:\tlearn: 1.1953787\ttotal: 29.7s\tremaining: 4.16s\n",
      "877:\tlearn: 1.1949698\ttotal: 29.7s\tremaining: 4.13s\n",
      "878:\tlearn: 1.1948669\ttotal: 29.8s\tremaining: 4.1s\n",
      "879:\tlearn: 1.1947038\ttotal: 29.8s\tremaining: 4.06s\n",
      "880:\tlearn: 1.1943588\ttotal: 29.8s\tremaining: 4.03s\n",
      "881:\tlearn: 1.1940388\ttotal: 29.9s\tremaining: 3.99s\n",
      "882:\tlearn: 1.1938974\ttotal: 29.9s\tremaining: 3.96s\n",
      "883:\tlearn: 1.1937463\ttotal: 29.9s\tremaining: 3.93s\n",
      "884:\tlearn: 1.1936513\ttotal: 30s\tremaining: 3.89s\n",
      "885:\tlearn: 1.1934377\ttotal: 30s\tremaining: 3.86s\n",
      "886:\tlearn: 1.1932506\ttotal: 30s\tremaining: 3.83s\n",
      "887:\tlearn: 1.1929846\ttotal: 30.1s\tremaining: 3.79s\n",
      "888:\tlearn: 1.1926428\ttotal: 30.1s\tremaining: 3.76s\n",
      "889:\tlearn: 1.1922141\ttotal: 30.1s\tremaining: 3.72s\n",
      "890:\tlearn: 1.1919643\ttotal: 30.2s\tremaining: 3.69s\n",
      "891:\tlearn: 1.1916824\ttotal: 30.2s\tremaining: 3.65s\n",
      "892:\tlearn: 1.1915387\ttotal: 30.2s\tremaining: 3.62s\n",
      "893:\tlearn: 1.1914246\ttotal: 30.3s\tremaining: 3.59s\n",
      "894:\tlearn: 1.1911763\ttotal: 30.3s\tremaining: 3.55s\n",
      "895:\tlearn: 1.1909145\ttotal: 30.3s\tremaining: 3.52s\n",
      "896:\tlearn: 1.1906754\ttotal: 30.4s\tremaining: 3.49s\n",
      "897:\tlearn: 1.1904952\ttotal: 30.4s\tremaining: 3.45s\n",
      "898:\tlearn: 1.1902239\ttotal: 30.4s\tremaining: 3.42s\n",
      "899:\tlearn: 1.1900735\ttotal: 30.5s\tremaining: 3.38s\n",
      "900:\tlearn: 1.1898364\ttotal: 30.5s\tremaining: 3.35s\n",
      "901:\tlearn: 1.1896738\ttotal: 30.5s\tremaining: 3.32s\n",
      "902:\tlearn: 1.1895489\ttotal: 30.6s\tremaining: 3.28s\n",
      "903:\tlearn: 1.1893844\ttotal: 30.6s\tremaining: 3.25s\n",
      "904:\tlearn: 1.1891811\ttotal: 30.6s\tremaining: 3.21s\n",
      "905:\tlearn: 1.1890654\ttotal: 30.7s\tremaining: 3.18s\n",
      "906:\tlearn: 1.1889564\ttotal: 30.7s\tremaining: 3.15s\n",
      "907:\tlearn: 1.1887306\ttotal: 30.7s\tremaining: 3.11s\n",
      "908:\tlearn: 1.1885145\ttotal: 30.8s\tremaining: 3.08s\n",
      "909:\tlearn: 1.1884205\ttotal: 30.8s\tremaining: 3.04s\n",
      "910:\tlearn: 1.1882490\ttotal: 30.8s\tremaining: 3.01s\n",
      "911:\tlearn: 1.1879697\ttotal: 30.9s\tremaining: 2.98s\n",
      "912:\tlearn: 1.1878751\ttotal: 30.9s\tremaining: 2.94s\n",
      "913:\tlearn: 1.1876019\ttotal: 30.9s\tremaining: 2.91s\n",
      "914:\tlearn: 1.1873727\ttotal: 31s\tremaining: 2.88s\n",
      "915:\tlearn: 1.1870492\ttotal: 31s\tremaining: 2.84s\n",
      "916:\tlearn: 1.1867548\ttotal: 31s\tremaining: 2.81s\n",
      "917:\tlearn: 1.1865912\ttotal: 31.1s\tremaining: 2.77s\n",
      "918:\tlearn: 1.1862851\ttotal: 31.1s\tremaining: 2.74s\n",
      "919:\tlearn: 1.1861888\ttotal: 31.1s\tremaining: 2.71s\n",
      "920:\tlearn: 1.1857945\ttotal: 31.2s\tremaining: 2.67s\n",
      "921:\tlearn: 1.1854926\ttotal: 31.2s\tremaining: 2.64s\n",
      "922:\tlearn: 1.1852461\ttotal: 31.2s\tremaining: 2.6s\n",
      "923:\tlearn: 1.1851284\ttotal: 31.3s\tremaining: 2.57s\n",
      "924:\tlearn: 1.1850457\ttotal: 31.3s\tremaining: 2.54s\n",
      "925:\tlearn: 1.1849354\ttotal: 31.3s\tremaining: 2.5s\n",
      "926:\tlearn: 1.1847781\ttotal: 31.4s\tremaining: 2.47s\n",
      "927:\tlearn: 1.1845210\ttotal: 31.4s\tremaining: 2.44s\n",
      "928:\tlearn: 1.1842977\ttotal: 31.4s\tremaining: 2.4s\n",
      "929:\tlearn: 1.1841829\ttotal: 31.5s\tremaining: 2.37s\n",
      "930:\tlearn: 1.1838855\ttotal: 31.5s\tremaining: 2.33s\n",
      "931:\tlearn: 1.1836815\ttotal: 31.5s\tremaining: 2.3s\n",
      "932:\tlearn: 1.1835559\ttotal: 31.6s\tremaining: 2.27s\n",
      "933:\tlearn: 1.1833196\ttotal: 31.6s\tremaining: 2.23s\n",
      "934:\tlearn: 1.1830506\ttotal: 31.6s\tremaining: 2.2s\n",
      "935:\tlearn: 1.1827206\ttotal: 31.7s\tremaining: 2.16s\n",
      "936:\tlearn: 1.1825682\ttotal: 31.7s\tremaining: 2.13s\n",
      "937:\tlearn: 1.1823174\ttotal: 31.7s\tremaining: 2.1s\n",
      "938:\tlearn: 1.1822126\ttotal: 31.8s\tremaining: 2.06s\n",
      "939:\tlearn: 1.1817633\ttotal: 31.8s\tremaining: 2.03s\n",
      "940:\tlearn: 1.1813920\ttotal: 31.8s\tremaining: 2s\n",
      "941:\tlearn: 1.1813374\ttotal: 31.9s\tremaining: 1.96s\n",
      "942:\tlearn: 1.1811734\ttotal: 31.9s\tremaining: 1.93s\n",
      "943:\tlearn: 1.1808907\ttotal: 31.9s\tremaining: 1.89s\n",
      "944:\tlearn: 1.1807911\ttotal: 32s\tremaining: 1.86s\n",
      "945:\tlearn: 1.1804659\ttotal: 32s\tremaining: 1.83s\n",
      "946:\tlearn: 1.1801661\ttotal: 32s\tremaining: 1.79s\n",
      "947:\tlearn: 1.1799142\ttotal: 32.1s\tremaining: 1.76s\n",
      "948:\tlearn: 1.1795911\ttotal: 32.1s\tremaining: 1.72s\n",
      "949:\tlearn: 1.1793957\ttotal: 32.1s\tremaining: 1.69s\n",
      "950:\tlearn: 1.1792724\ttotal: 32.2s\tremaining: 1.66s\n",
      "951:\tlearn: 1.1791547\ttotal: 32.2s\tremaining: 1.62s\n",
      "952:\tlearn: 1.1788612\ttotal: 32.2s\tremaining: 1.59s\n",
      "953:\tlearn: 1.1786624\ttotal: 32.3s\tremaining: 1.55s\n",
      "954:\tlearn: 1.1783919\ttotal: 32.3s\tremaining: 1.52s\n",
      "955:\tlearn: 1.1781982\ttotal: 32.3s\tremaining: 1.49s\n",
      "956:\tlearn: 1.1781165\ttotal: 32.4s\tremaining: 1.45s\n",
      "957:\tlearn: 1.1777906\ttotal: 32.4s\tremaining: 1.42s\n",
      "958:\tlearn: 1.1774995\ttotal: 32.4s\tremaining: 1.39s\n",
      "959:\tlearn: 1.1774198\ttotal: 32.5s\tremaining: 1.35s\n",
      "960:\tlearn: 1.1772684\ttotal: 32.5s\tremaining: 1.32s\n",
      "961:\tlearn: 1.1771888\ttotal: 32.5s\tremaining: 1.28s\n",
      "962:\tlearn: 1.1769041\ttotal: 32.6s\tremaining: 1.25s\n",
      "963:\tlearn: 1.1767914\ttotal: 32.6s\tremaining: 1.22s\n",
      "964:\tlearn: 1.1766623\ttotal: 32.7s\tremaining: 1.18s\n",
      "965:\tlearn: 1.1765360\ttotal: 32.7s\tremaining: 1.15s\n",
      "966:\tlearn: 1.1763795\ttotal: 32.7s\tremaining: 1.12s\n",
      "967:\tlearn: 1.1761790\ttotal: 32.8s\tremaining: 1.08s\n",
      "968:\tlearn: 1.1759941\ttotal: 32.8s\tremaining: 1.05s\n",
      "969:\tlearn: 1.1757171\ttotal: 32.8s\tremaining: 1.01s\n",
      "970:\tlearn: 1.1755585\ttotal: 32.9s\tremaining: 982ms\n",
      "971:\tlearn: 1.1751870\ttotal: 32.9s\tremaining: 948ms\n",
      "972:\tlearn: 1.1749962\ttotal: 32.9s\tremaining: 914ms\n",
      "973:\tlearn: 1.1746064\ttotal: 33s\tremaining: 880ms\n",
      "974:\tlearn: 1.1743579\ttotal: 33s\tremaining: 846ms\n",
      "975:\tlearn: 1.1741163\ttotal: 33s\tremaining: 812ms\n",
      "976:\tlearn: 1.1739347\ttotal: 33.1s\tremaining: 778ms\n",
      "977:\tlearn: 1.1738589\ttotal: 33.1s\tremaining: 744ms\n",
      "978:\tlearn: 1.1736418\ttotal: 33.1s\tremaining: 711ms\n",
      "979:\tlearn: 1.1733880\ttotal: 33.2s\tremaining: 677ms\n",
      "980:\tlearn: 1.1732302\ttotal: 33.2s\tremaining: 643ms\n",
      "981:\tlearn: 1.1729236\ttotal: 33.2s\tremaining: 609ms\n",
      "982:\tlearn: 1.1727684\ttotal: 33.3s\tremaining: 575ms\n",
      "983:\tlearn: 1.1725869\ttotal: 33.3s\tremaining: 541ms\n",
      "984:\tlearn: 1.1722620\ttotal: 33.3s\tremaining: 508ms\n",
      "985:\tlearn: 1.1719435\ttotal: 33.4s\tremaining: 474ms\n",
      "986:\tlearn: 1.1716883\ttotal: 33.4s\tremaining: 440ms\n",
      "987:\tlearn: 1.1715506\ttotal: 33.4s\tremaining: 406ms\n",
      "988:\tlearn: 1.1714094\ttotal: 33.5s\tremaining: 372ms\n",
      "989:\tlearn: 1.1711354\ttotal: 33.5s\tremaining: 338ms\n",
      "990:\tlearn: 1.1709623\ttotal: 33.5s\tremaining: 304ms\n",
      "991:\tlearn: 1.1706707\ttotal: 33.6s\tremaining: 271ms\n",
      "992:\tlearn: 1.1705577\ttotal: 33.6s\tremaining: 237ms\n",
      "993:\tlearn: 1.1703179\ttotal: 33.6s\tremaining: 203ms\n",
      "994:\tlearn: 1.1701112\ttotal: 33.7s\tremaining: 169ms\n",
      "995:\tlearn: 1.1698637\ttotal: 33.7s\tremaining: 135ms\n",
      "996:\tlearn: 1.1697762\ttotal: 33.7s\tremaining: 101ms\n",
      "997:\tlearn: 1.1695803\ttotal: 33.8s\tremaining: 67.7ms\n",
      "998:\tlearn: 1.1694450\ttotal: 33.8s\tremaining: 33.8ms\n",
      "999:\tlearn: 1.1691957\ttotal: 33.8s\tremaining: 0us\n"
     ]
    }
   ],
   "source": [
    "# Modeling\n",
    "models = {\n",
    "    'Logistic Regression': LogisticRegression(),\n",
    "    'Decision Tree': DecisionTreeClassifier(),\n",
    "    'Random Forest': RandomForestClassifier(),\n",
    "    'K Neighbors': KNeighborsClassifier(),\n",
    "    'XGBoost': XGBClassifier(),\n",
    "    'CatBoost': CatBoostClassifier()\n",
    "}\n",
    "\n",
    "results = {}\n",
    "\n",
    "for name, model in models.items():\n",
    "    model.fit(X_train_scaled, y_train)\n",
    "    y_pred = model.predict(X_test_scaled)\n",
    "    accuracy = accuracy_score(y_test, y_pred)\n",
    "    results[name] = accuracy\n"
   ]
  },
  {
   "cell_type": "code",
   "execution_count": 25,
   "id": "fa83e358",
   "metadata": {
    "execution": {
     "iopub.execute_input": "2023-08-26T03:55:13.341213Z",
     "iopub.status.busy": "2023-08-26T03:55:13.340056Z",
     "iopub.status.idle": "2023-08-26T03:55:13.828475Z",
     "shell.execute_reply": "2023-08-26T03:55:13.827693Z"
    },
    "papermill": {
     "duration": 0.527185,
     "end_time": "2023-08-26T03:55:13.830594",
     "exception": false,
     "start_time": "2023-08-26T03:55:13.303409",
     "status": "completed"
    },
    "tags": []
   },
   "outputs": [
    {
     "data": {
      "image/png": "[encoded data removed]",
      "text/plain": [
       "<Figure size 1000x600 with 1 Axes>"
      ]
     },
     "metadata": {
      "needs_background": "light"
     },
     "output_type": "display_data"
    }
   ],
   "source": [
    "# Visualization\n",
    "plt.figure(figsize=(10, 6))\n",
    "sns.barplot(x=list(results.values()), y=list(results.keys()), palette='viridis')\n",
    "plt.xlabel('Accuracy')\n",
    "plt.ylabel('Model')\n",
    "plt.title('Model Accuracy Comparison')\n",
    "plt.savefig('Model Accuracy Comparison.png')\n",
    "plt.show()"
   ]
  },
  {
   "cell_type": "code",
   "execution_count": null,
   "id": "102978ec",
   "metadata": {
    "papermill": {
     "duration": 0.033751,
     "end_time": "2023-08-26T03:55:13.898575",
     "exception": false,
     "start_time": "2023-08-26T03:55:13.864824",
     "status": "completed"
    },
    "tags": []
   },
   "outputs": [],
   "source": []
  }
 ],
 "metadata": {
  "kernelspec": {
   "display_name": "Python 3",
   "language": "python",
   "name": "python3"
  },
  "language_info": {
   "codemirror_mode": {
    "name": "ipython",
    "version": 3
   },
   "file_extension": ".py",
   "mimetype": "text/x-python",
   "name": "python",
   "nbconvert_exporter": "python",
   "pygments_lexer": "ipython3",
   "version": "3.10.12"
  },
  "papermill": {
   "default_parameters": {},
   "duration": 72.946733,
   "end_time": "2023-08-26T03:55:14.954595",
   "environment_variables": {},
   "exception": null,
   "input_path": "__notebook__.ipynb",
   "output_path": "__notebook__.ipynb",
   "parameters": {},
   "start_time": "2023-08-26T03:54:02.007862",
   "version": "2.4.0"
  }
 },
 "nbformat": 4,
 "nbformat_minor": 5
}
